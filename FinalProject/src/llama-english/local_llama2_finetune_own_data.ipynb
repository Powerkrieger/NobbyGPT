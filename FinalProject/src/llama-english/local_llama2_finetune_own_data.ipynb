{
 "cells": [
  {
   "cell_type": "markdown",
   "source": [
    "# This is a script found somewhere utilising a local copy of llama2"
   ],
   "metadata": {
    "collapsed": false
   }
  },
  {
   "cell_type": "code",
   "execution_count": 2,
   "outputs": [],
   "source": [
    "# You only need to run this once per machine\n",
    "!pip install -q -U bitsandbytes\n",
    "!pip install -q -U git+https://github.com/huggingface/transformers.git\n",
    "!pip install -q -U git+https://github.com/huggingface/peft.git\n",
    "!pip install -q -U git+https://github.com/huggingface/accelerate.git\n",
    "!pip install -q -U datasets scipy ipywidgets matplotlib\n",
    "!pip install sentencepiece"
   ],
   "metadata": {
    "collapsed": false,
    "ExecuteTime": {
     "end_time": "2023-12-17T16:26:00.589185088Z",
     "start_time": "2023-12-17T16:25:30.630024913Z"
    }
   }
  },
  {
   "cell_type": "code",
   "execution_count": 8,
   "outputs": [
    {
     "name": "stdout",
     "output_type": "stream",
     "text": [
      "Requirement already satisfied: llama-recipes in /home/mighty/PycharmProjects/NobbyGPT/venv/lib/python3.11/site-packages (0.0.1)\r\n",
      "Requirement already satisfied: transformers in /home/mighty/PycharmProjects/NobbyGPT/venv/lib/python3.11/site-packages (4.37.0.dev0)\r\n",
      "Requirement already satisfied: datasets in /home/mighty/PycharmProjects/NobbyGPT/venv/lib/python3.11/site-packages (2.15.0)\r\n",
      "Requirement already satisfied: accelerate in /home/mighty/PycharmProjects/NobbyGPT/venv/lib/python3.11/site-packages (0.25.0.dev0)\r\n",
      "Requirement already satisfied: sentencepiece in /home/mighty/PycharmProjects/NobbyGPT/venv/lib/python3.11/site-packages (0.1.99)\r\n",
      "Requirement already satisfied: protobuf==3.20 in /home/mighty/PycharmProjects/NobbyGPT/venv/lib/python3.11/site-packages (3.20.0)\r\n",
      "Requirement already satisfied: py7zr in /home/mighty/PycharmProjects/NobbyGPT/venv/lib/python3.11/site-packages (0.20.8)\r\n",
      "Requirement already satisfied: scipy in /home/mighty/PycharmProjects/NobbyGPT/venv/lib/python3.11/site-packages (1.11.4)\r\n",
      "Requirement already satisfied: peft in /home/mighty/PycharmProjects/NobbyGPT/venv/lib/python3.11/site-packages (0.7.2.dev0)\r\n",
      "Requirement already satisfied: bitsandbytes in /home/mighty/PycharmProjects/NobbyGPT/venv/lib/python3.11/site-packages (0.41.3.post2)\r\n",
      "Requirement already satisfied: fire in /home/mighty/PycharmProjects/NobbyGPT/venv/lib/python3.11/site-packages (0.5.0)\r\n",
      "Requirement already satisfied: torch_tb_profiler in /home/mighty/PycharmProjects/NobbyGPT/venv/lib/python3.11/site-packages (0.4.3)\r\n",
      "Requirement already satisfied: ipywidgets in /home/mighty/PycharmProjects/NobbyGPT/venv/lib/python3.11/site-packages (8.1.1)\r\n",
      "Requirement already satisfied: appdirs in /home/mighty/PycharmProjects/NobbyGPT/venv/lib/python3.11/site-packages (from llama-recipes) (1.4.4)\r\n",
      "Requirement already satisfied: black in /home/mighty/PycharmProjects/NobbyGPT/venv/lib/python3.11/site-packages (from llama-recipes) (23.12.0)\r\n",
      "Requirement already satisfied: loralib in /home/mighty/PycharmProjects/NobbyGPT/venv/lib/python3.11/site-packages (from llama-recipes) (0.1.2)\r\n",
      "Requirement already satisfied: optimum in /home/mighty/PycharmProjects/NobbyGPT/venv/lib/python3.11/site-packages (from llama-recipes) (1.16.1)\r\n",
      "Requirement already satisfied: torch>=2.0.1 in /home/mighty/PycharmProjects/NobbyGPT/venv/lib/python3.11/site-packages (from llama-recipes) (2.1.2)\r\n",
      "Requirement already satisfied: filelock in /home/mighty/PycharmProjects/NobbyGPT/venv/lib/python3.11/site-packages (from transformers) (3.13.1)\r\n",
      "Requirement already satisfied: huggingface-hub<1.0,>=0.19.3 in /home/mighty/PycharmProjects/NobbyGPT/venv/lib/python3.11/site-packages (from transformers) (0.19.4)\r\n",
      "Requirement already satisfied: numpy>=1.17 in /home/mighty/PycharmProjects/NobbyGPT/venv/lib/python3.11/site-packages (from transformers) (1.26.2)\r\n",
      "Requirement already satisfied: packaging>=20.0 in /home/mighty/PycharmProjects/NobbyGPT/venv/lib/python3.11/site-packages (from transformers) (23.2)\r\n",
      "Requirement already satisfied: pyyaml>=5.1 in /home/mighty/PycharmProjects/NobbyGPT/venv/lib/python3.11/site-packages (from transformers) (6.0.1)\r\n",
      "Requirement already satisfied: regex!=2019.12.17 in /home/mighty/PycharmProjects/NobbyGPT/venv/lib/python3.11/site-packages (from transformers) (2023.10.3)\r\n",
      "Requirement already satisfied: requests in /home/mighty/PycharmProjects/NobbyGPT/venv/lib/python3.11/site-packages (from transformers) (2.31.0)\r\n",
      "Requirement already satisfied: tokenizers<0.19,>=0.14 in /home/mighty/PycharmProjects/NobbyGPT/venv/lib/python3.11/site-packages (from transformers) (0.15.0)\r\n",
      "Requirement already satisfied: safetensors>=0.3.1 in /home/mighty/PycharmProjects/NobbyGPT/venv/lib/python3.11/site-packages (from transformers) (0.4.1)\r\n",
      "Requirement already satisfied: tqdm>=4.27 in /home/mighty/PycharmProjects/NobbyGPT/venv/lib/python3.11/site-packages (from transformers) (4.66.1)\r\n",
      "Requirement already satisfied: pyarrow>=8.0.0 in /home/mighty/PycharmProjects/NobbyGPT/venv/lib/python3.11/site-packages (from datasets) (14.0.1)\r\n",
      "Requirement already satisfied: pyarrow-hotfix in /home/mighty/PycharmProjects/NobbyGPT/venv/lib/python3.11/site-packages (from datasets) (0.6)\r\n",
      "Requirement already satisfied: dill<0.3.8,>=0.3.0 in /home/mighty/PycharmProjects/NobbyGPT/venv/lib/python3.11/site-packages (from datasets) (0.3.7)\r\n",
      "Requirement already satisfied: pandas in /home/mighty/PycharmProjects/NobbyGPT/venv/lib/python3.11/site-packages (from datasets) (2.1.4)\r\n",
      "Requirement already satisfied: xxhash in /home/mighty/PycharmProjects/NobbyGPT/venv/lib/python3.11/site-packages (from datasets) (3.4.1)\r\n",
      "Requirement already satisfied: multiprocess in /home/mighty/PycharmProjects/NobbyGPT/venv/lib/python3.11/site-packages (from datasets) (0.70.15)\r\n",
      "Requirement already satisfied: fsspec<=2023.10.0,>=2023.1.0 in /home/mighty/PycharmProjects/NobbyGPT/venv/lib/python3.11/site-packages (from fsspec[http]<=2023.10.0,>=2023.1.0->datasets) (2023.10.0)\r\n",
      "Requirement already satisfied: aiohttp in /home/mighty/PycharmProjects/NobbyGPT/venv/lib/python3.11/site-packages (from datasets) (3.9.1)\r\n",
      "Requirement already satisfied: psutil in /home/mighty/PycharmProjects/NobbyGPT/venv/lib/python3.11/site-packages (from accelerate) (5.9.7)\r\n",
      "Requirement already satisfied: texttable in /home/mighty/PycharmProjects/NobbyGPT/venv/lib/python3.11/site-packages (from py7zr) (1.7.0)\r\n",
      "Requirement already satisfied: pycryptodomex>=3.16.0 in /home/mighty/PycharmProjects/NobbyGPT/venv/lib/python3.11/site-packages (from py7zr) (3.19.0)\r\n",
      "Requirement already satisfied: pyzstd>=0.15.9 in /home/mighty/PycharmProjects/NobbyGPT/venv/lib/python3.11/site-packages (from py7zr) (0.15.9)\r\n",
      "Requirement already satisfied: pyppmd<1.2.0,>=1.1.0 in /home/mighty/PycharmProjects/NobbyGPT/venv/lib/python3.11/site-packages (from py7zr) (1.1.0)\r\n",
      "Requirement already satisfied: pybcj<1.1.0,>=1.0.0 in /home/mighty/PycharmProjects/NobbyGPT/venv/lib/python3.11/site-packages (from py7zr) (1.0.2)\r\n",
      "Requirement already satisfied: multivolumefile>=0.2.3 in /home/mighty/PycharmProjects/NobbyGPT/venv/lib/python3.11/site-packages (from py7zr) (0.2.3)\r\n",
      "Requirement already satisfied: inflate64<1.1.0,>=1.0.0 in /home/mighty/PycharmProjects/NobbyGPT/venv/lib/python3.11/site-packages (from py7zr) (1.0.0)\r\n",
      "Requirement already satisfied: brotli>=1.1.0 in /home/mighty/PycharmProjects/NobbyGPT/venv/lib/python3.11/site-packages (from py7zr) (1.1.0)\r\n",
      "Requirement already satisfied: six in /home/mighty/PycharmProjects/NobbyGPT/venv/lib/python3.11/site-packages (from fire) (1.16.0)\r\n",
      "Requirement already satisfied: termcolor in /home/mighty/PycharmProjects/NobbyGPT/venv/lib/python3.11/site-packages (from fire) (2.4.0)\r\n",
      "Requirement already satisfied: tensorboard!=2.1.0,>=1.15 in /home/mighty/PycharmProjects/NobbyGPT/venv/lib/python3.11/site-packages (from torch_tb_profiler) (2.15.1)\r\n",
      "Requirement already satisfied: comm>=0.1.3 in /home/mighty/PycharmProjects/NobbyGPT/venv/lib/python3.11/site-packages (from ipywidgets) (0.2.0)\r\n",
      "Requirement already satisfied: ipython>=6.1.0 in /home/mighty/PycharmProjects/NobbyGPT/venv/lib/python3.11/site-packages (from ipywidgets) (8.18.1)\r\n",
      "Requirement already satisfied: traitlets>=4.3.1 in /home/mighty/PycharmProjects/NobbyGPT/venv/lib/python3.11/site-packages (from ipywidgets) (5.14.0)\r\n",
      "Requirement already satisfied: widgetsnbextension~=4.0.9 in /home/mighty/PycharmProjects/NobbyGPT/venv/lib/python3.11/site-packages (from ipywidgets) (4.0.9)\r\n",
      "Requirement already satisfied: jupyterlab-widgets~=3.0.9 in /home/mighty/PycharmProjects/NobbyGPT/venv/lib/python3.11/site-packages (from ipywidgets) (3.0.9)\r\n",
      "Requirement already satisfied: attrs>=17.3.0 in /home/mighty/PycharmProjects/NobbyGPT/venv/lib/python3.11/site-packages (from aiohttp->datasets) (23.1.0)\r\n",
      "Requirement already satisfied: multidict<7.0,>=4.5 in /home/mighty/PycharmProjects/NobbyGPT/venv/lib/python3.11/site-packages (from aiohttp->datasets) (6.0.4)\r\n",
      "Requirement already satisfied: yarl<2.0,>=1.0 in /home/mighty/PycharmProjects/NobbyGPT/venv/lib/python3.11/site-packages (from aiohttp->datasets) (1.9.4)\r\n",
      "Requirement already satisfied: frozenlist>=1.1.1 in /home/mighty/PycharmProjects/NobbyGPT/venv/lib/python3.11/site-packages (from aiohttp->datasets) (1.4.1)\r\n",
      "Requirement already satisfied: aiosignal>=1.1.2 in /home/mighty/PycharmProjects/NobbyGPT/venv/lib/python3.11/site-packages (from aiohttp->datasets) (1.3.1)\r\n",
      "Requirement already satisfied: typing-extensions>=3.7.4.3 in /home/mighty/PycharmProjects/NobbyGPT/venv/lib/python3.11/site-packages (from huggingface-hub<1.0,>=0.19.3->transformers) (4.9.0)\r\n",
      "Requirement already satisfied: decorator in /home/mighty/PycharmProjects/NobbyGPT/venv/lib/python3.11/site-packages (from ipython>=6.1.0->ipywidgets) (5.1.1)\r\n",
      "Requirement already satisfied: jedi>=0.16 in /home/mighty/PycharmProjects/NobbyGPT/venv/lib/python3.11/site-packages (from ipython>=6.1.0->ipywidgets) (0.19.1)\r\n",
      "Requirement already satisfied: matplotlib-inline in /home/mighty/PycharmProjects/NobbyGPT/venv/lib/python3.11/site-packages (from ipython>=6.1.0->ipywidgets) (0.1.6)\r\n",
      "Requirement already satisfied: prompt-toolkit<3.1.0,>=3.0.41 in /home/mighty/PycharmProjects/NobbyGPT/venv/lib/python3.11/site-packages (from ipython>=6.1.0->ipywidgets) (3.0.43)\r\n",
      "Requirement already satisfied: pygments>=2.4.0 in /home/mighty/PycharmProjects/NobbyGPT/venv/lib/python3.11/site-packages (from ipython>=6.1.0->ipywidgets) (2.17.2)\r\n",
      "Requirement already satisfied: stack-data in /home/mighty/PycharmProjects/NobbyGPT/venv/lib/python3.11/site-packages (from ipython>=6.1.0->ipywidgets) (0.6.3)\r\n",
      "Requirement already satisfied: pexpect>4.3 in /home/mighty/PycharmProjects/NobbyGPT/venv/lib/python3.11/site-packages (from ipython>=6.1.0->ipywidgets) (4.9.0)\r\n",
      "Requirement already satisfied: python-dateutil>=2.8.2 in /home/mighty/PycharmProjects/NobbyGPT/venv/lib/python3.11/site-packages (from pandas->datasets) (2.8.2)\r\n",
      "Requirement already satisfied: pytz>=2020.1 in /home/mighty/PycharmProjects/NobbyGPT/venv/lib/python3.11/site-packages (from pandas->datasets) (2023.3.post1)\r\n",
      "Requirement already satisfied: tzdata>=2022.1 in /home/mighty/PycharmProjects/NobbyGPT/venv/lib/python3.11/site-packages (from pandas->datasets) (2023.3)\r\n",
      "Requirement already satisfied: charset-normalizer<4,>=2 in /home/mighty/PycharmProjects/NobbyGPT/venv/lib/python3.11/site-packages (from requests->transformers) (3.3.2)\r\n",
      "Requirement already satisfied: idna<4,>=2.5 in /home/mighty/PycharmProjects/NobbyGPT/venv/lib/python3.11/site-packages (from requests->transformers) (3.6)\r\n",
      "Requirement already satisfied: urllib3<3,>=1.21.1 in /home/mighty/PycharmProjects/NobbyGPT/venv/lib/python3.11/site-packages (from requests->transformers) (2.1.0)\r\n",
      "Requirement already satisfied: certifi>=2017.4.17 in /home/mighty/PycharmProjects/NobbyGPT/venv/lib/python3.11/site-packages (from requests->transformers) (2023.11.17)\r\n",
      "Requirement already satisfied: absl-py>=0.4 in /home/mighty/PycharmProjects/NobbyGPT/venv/lib/python3.11/site-packages (from tensorboard!=2.1.0,>=1.15->torch_tb_profiler) (2.0.0)\r\n",
      "Requirement already satisfied: grpcio>=1.48.2 in /home/mighty/PycharmProjects/NobbyGPT/venv/lib/python3.11/site-packages (from tensorboard!=2.1.0,>=1.15->torch_tb_profiler) (1.60.0)\r\n",
      "Requirement already satisfied: google-auth<3,>=1.6.3 in /home/mighty/PycharmProjects/NobbyGPT/venv/lib/python3.11/site-packages (from tensorboard!=2.1.0,>=1.15->torch_tb_profiler) (2.25.2)\r\n",
      "Requirement already satisfied: google-auth-oauthlib<2,>=0.5 in /home/mighty/PycharmProjects/NobbyGPT/venv/lib/python3.11/site-packages (from tensorboard!=2.1.0,>=1.15->torch_tb_profiler) (1.2.0)\r\n",
      "Requirement already satisfied: markdown>=2.6.8 in /home/mighty/PycharmProjects/NobbyGPT/venv/lib/python3.11/site-packages (from tensorboard!=2.1.0,>=1.15->torch_tb_profiler) (3.5.1)\r\n",
      "Requirement already satisfied: setuptools>=41.0.0 in /home/mighty/PycharmProjects/NobbyGPT/venv/lib/python3.11/site-packages (from tensorboard!=2.1.0,>=1.15->torch_tb_profiler) (68.2.0)\r\n",
      "Requirement already satisfied: tensorboard-data-server<0.8.0,>=0.7.0 in /home/mighty/PycharmProjects/NobbyGPT/venv/lib/python3.11/site-packages (from tensorboard!=2.1.0,>=1.15->torch_tb_profiler) (0.7.2)\r\n",
      "Requirement already satisfied: werkzeug>=1.0.1 in /home/mighty/PycharmProjects/NobbyGPT/venv/lib/python3.11/site-packages (from tensorboard!=2.1.0,>=1.15->torch_tb_profiler) (3.0.1)\r\n",
      "Requirement already satisfied: sympy in /home/mighty/PycharmProjects/NobbyGPT/venv/lib/python3.11/site-packages (from torch>=2.0.1->llama-recipes) (1.12)\r\n",
      "Requirement already satisfied: networkx in /home/mighty/PycharmProjects/NobbyGPT/venv/lib/python3.11/site-packages (from torch>=2.0.1->llama-recipes) (3.2.1)\r\n",
      "Requirement already satisfied: jinja2 in /home/mighty/PycharmProjects/NobbyGPT/venv/lib/python3.11/site-packages (from torch>=2.0.1->llama-recipes) (3.1.2)\r\n",
      "Requirement already satisfied: nvidia-cuda-nvrtc-cu12==12.1.105 in /home/mighty/PycharmProjects/NobbyGPT/venv/lib/python3.11/site-packages (from torch>=2.0.1->llama-recipes) (12.1.105)\r\n",
      "Requirement already satisfied: nvidia-cuda-runtime-cu12==12.1.105 in /home/mighty/PycharmProjects/NobbyGPT/venv/lib/python3.11/site-packages (from torch>=2.0.1->llama-recipes) (12.1.105)\r\n",
      "Requirement already satisfied: nvidia-cuda-cupti-cu12==12.1.105 in /home/mighty/PycharmProjects/NobbyGPT/venv/lib/python3.11/site-packages (from torch>=2.0.1->llama-recipes) (12.1.105)\r\n",
      "Requirement already satisfied: nvidia-cudnn-cu12==8.9.2.26 in /home/mighty/PycharmProjects/NobbyGPT/venv/lib/python3.11/site-packages (from torch>=2.0.1->llama-recipes) (8.9.2.26)\r\n",
      "Requirement already satisfied: nvidia-cublas-cu12==12.1.3.1 in /home/mighty/PycharmProjects/NobbyGPT/venv/lib/python3.11/site-packages (from torch>=2.0.1->llama-recipes) (12.1.3.1)\r\n",
      "Requirement already satisfied: nvidia-cufft-cu12==11.0.2.54 in /home/mighty/PycharmProjects/NobbyGPT/venv/lib/python3.11/site-packages (from torch>=2.0.1->llama-recipes) (11.0.2.54)\r\n",
      "Requirement already satisfied: nvidia-curand-cu12==10.3.2.106 in /home/mighty/PycharmProjects/NobbyGPT/venv/lib/python3.11/site-packages (from torch>=2.0.1->llama-recipes) (10.3.2.106)\r\n",
      "Requirement already satisfied: nvidia-cusolver-cu12==11.4.5.107 in /home/mighty/PycharmProjects/NobbyGPT/venv/lib/python3.11/site-packages (from torch>=2.0.1->llama-recipes) (11.4.5.107)\r\n",
      "Requirement already satisfied: nvidia-cusparse-cu12==12.1.0.106 in /home/mighty/PycharmProjects/NobbyGPT/venv/lib/python3.11/site-packages (from torch>=2.0.1->llama-recipes) (12.1.0.106)\r\n",
      "Requirement already satisfied: nvidia-nccl-cu12==2.18.1 in /home/mighty/PycharmProjects/NobbyGPT/venv/lib/python3.11/site-packages (from torch>=2.0.1->llama-recipes) (2.18.1)\r\n",
      "Requirement already satisfied: nvidia-nvtx-cu12==12.1.105 in /home/mighty/PycharmProjects/NobbyGPT/venv/lib/python3.11/site-packages (from torch>=2.0.1->llama-recipes) (12.1.105)\r\n",
      "Requirement already satisfied: triton==2.1.0 in /home/mighty/PycharmProjects/NobbyGPT/venv/lib/python3.11/site-packages (from torch>=2.0.1->llama-recipes) (2.1.0)\r\n",
      "Requirement already satisfied: nvidia-nvjitlink-cu12 in /home/mighty/PycharmProjects/NobbyGPT/venv/lib/python3.11/site-packages (from nvidia-cusolver-cu12==11.4.5.107->torch>=2.0.1->llama-recipes) (12.3.101)\r\n",
      "Requirement already satisfied: click>=8.0.0 in /home/mighty/PycharmProjects/NobbyGPT/venv/lib/python3.11/site-packages (from black->llama-recipes) (8.1.7)\r\n",
      "Requirement already satisfied: mypy-extensions>=0.4.3 in /home/mighty/PycharmProjects/NobbyGPT/venv/lib/python3.11/site-packages (from black->llama-recipes) (1.0.0)\r\n",
      "Requirement already satisfied: pathspec>=0.9.0 in /home/mighty/PycharmProjects/NobbyGPT/venv/lib/python3.11/site-packages (from black->llama-recipes) (0.12.1)\r\n",
      "Requirement already satisfied: platformdirs>=2 in /home/mighty/PycharmProjects/NobbyGPT/venv/lib/python3.11/site-packages (from black->llama-recipes) (4.1.0)\r\n",
      "Requirement already satisfied: tokenize-rt>=3.2.0 in /home/mighty/PycharmProjects/NobbyGPT/venv/lib/python3.11/site-packages (from black[jupyter]->llama-recipes) (5.2.0)\r\n",
      "Requirement already satisfied: coloredlogs in /home/mighty/PycharmProjects/NobbyGPT/venv/lib/python3.11/site-packages (from optimum->llama-recipes) (15.0.1)\r\n",
      "Requirement already satisfied: cachetools<6.0,>=2.0.0 in /home/mighty/PycharmProjects/NobbyGPT/venv/lib/python3.11/site-packages (from google-auth<3,>=1.6.3->tensorboard!=2.1.0,>=1.15->torch_tb_profiler) (5.3.2)\r\n",
      "Requirement already satisfied: pyasn1-modules>=0.2.1 in /home/mighty/PycharmProjects/NobbyGPT/venv/lib/python3.11/site-packages (from google-auth<3,>=1.6.3->tensorboard!=2.1.0,>=1.15->torch_tb_profiler) (0.3.0)\r\n",
      "Requirement already satisfied: rsa<5,>=3.1.4 in /home/mighty/PycharmProjects/NobbyGPT/venv/lib/python3.11/site-packages (from google-auth<3,>=1.6.3->tensorboard!=2.1.0,>=1.15->torch_tb_profiler) (4.9)\r\n",
      "Requirement already satisfied: requests-oauthlib>=0.7.0 in /home/mighty/PycharmProjects/NobbyGPT/venv/lib/python3.11/site-packages (from google-auth-oauthlib<2,>=0.5->tensorboard!=2.1.0,>=1.15->torch_tb_profiler) (1.3.1)\r\n",
      "Requirement already satisfied: parso<0.9.0,>=0.8.3 in /home/mighty/PycharmProjects/NobbyGPT/venv/lib/python3.11/site-packages (from jedi>=0.16->ipython>=6.1.0->ipywidgets) (0.8.3)\r\n",
      "Requirement already satisfied: ptyprocess>=0.5 in /home/mighty/PycharmProjects/NobbyGPT/venv/lib/python3.11/site-packages (from pexpect>4.3->ipython>=6.1.0->ipywidgets) (0.7.0)\r\n",
      "Requirement already satisfied: wcwidth in /home/mighty/PycharmProjects/NobbyGPT/venv/lib/python3.11/site-packages (from prompt-toolkit<3.1.0,>=3.0.41->ipython>=6.1.0->ipywidgets) (0.2.12)\r\n",
      "Requirement already satisfied: MarkupSafe>=2.1.1 in /home/mighty/PycharmProjects/NobbyGPT/venv/lib/python3.11/site-packages (from werkzeug>=1.0.1->tensorboard!=2.1.0,>=1.15->torch_tb_profiler) (2.1.3)\r\n",
      "Requirement already satisfied: humanfriendly>=9.1 in /home/mighty/PycharmProjects/NobbyGPT/venv/lib/python3.11/site-packages (from coloredlogs->optimum->llama-recipes) (10.0)\r\n",
      "Requirement already satisfied: executing>=1.2.0 in /home/mighty/PycharmProjects/NobbyGPT/venv/lib/python3.11/site-packages (from stack-data->ipython>=6.1.0->ipywidgets) (2.0.1)\r\n",
      "Requirement already satisfied: asttokens>=2.1.0 in /home/mighty/PycharmProjects/NobbyGPT/venv/lib/python3.11/site-packages (from stack-data->ipython>=6.1.0->ipywidgets) (2.4.1)\r\n",
      "Requirement already satisfied: pure-eval in /home/mighty/PycharmProjects/NobbyGPT/venv/lib/python3.11/site-packages (from stack-data->ipython>=6.1.0->ipywidgets) (0.2.2)\r\n",
      "Requirement already satisfied: mpmath>=0.19 in /home/mighty/PycharmProjects/NobbyGPT/venv/lib/python3.11/site-packages (from sympy->torch>=2.0.1->llama-recipes) (1.3.0)\r\n",
      "Requirement already satisfied: pyasn1<0.6.0,>=0.4.6 in /home/mighty/PycharmProjects/NobbyGPT/venv/lib/python3.11/site-packages (from pyasn1-modules>=0.2.1->google-auth<3,>=1.6.3->tensorboard!=2.1.0,>=1.15->torch_tb_profiler) (0.5.1)\r\n",
      "Requirement already satisfied: oauthlib>=3.0.0 in /home/mighty/PycharmProjects/NobbyGPT/venv/lib/python3.11/site-packages (from requests-oauthlib>=0.7.0->google-auth-oauthlib<2,>=0.5->tensorboard!=2.1.0,>=1.15->torch_tb_profiler) (3.2.2)\r\n"
     ]
    }
   ],
   "source": [
    "!pip install llama-recipes transformers datasets accelerate sentencepiece protobuf==3.20 py7zr scipy peft bitsandbytes fire torch_tb_profiler ipywidgets"
   ],
   "metadata": {
    "collapsed": false,
    "ExecuteTime": {
     "end_time": "2023-12-17T17:32:52.908442256Z",
     "start_time": "2023-12-17T17:32:50.051287041Z"
    }
   }
  },
  {
   "cell_type": "markdown",
   "source": [
    "Get access to llama license\n",
    "Clone Repo from huggingface site - supply huggingface access token\n",
    "-> git large file storage can be utilized\n",
    "Clone llama-recipes repository "
   ],
   "metadata": {
    "collapsed": false
   }
  },
  {
   "cell_type": "markdown",
   "metadata": {
    "id": "05H5MIfjyRgc"
   },
   "source": [
    "### 0. Accelerator"
   ]
  },
  {
   "cell_type": "code",
   "execution_count": 1,
   "metadata": {
    "id": "TEzYBadkyRgd",
    "ExecuteTime": {
     "end_time": "2023-12-17T17:09:09.997962901Z",
     "start_time": "2023-12-17T17:09:08.476932042Z"
    }
   },
   "outputs": [],
   "source": [
    "# Set up the Accelerator. I’m not sure if we really need this for a QLoRA given its description (I have to read more about it) but it seems it can’t hurt, and it’s helpful to have the code for future reference. You can always comment out the accelerator if you want to try without.\n",
    "from accelerate import FullyShardedDataParallelPlugin, Accelerator\n",
    "from torch.distributed.fsdp.fully_sharded_data_parallel import FullOptimStateDictConfig, FullStateDictConfig\n",
    "\n",
    "fsdp_plugin = FullyShardedDataParallelPlugin(\n",
    "    state_dict_config=FullStateDictConfig(offload_to_cpu=True, rank0_only=False),\n",
    "    optim_state_dict_config=FullOptimStateDictConfig(offload_to_cpu=True, rank0_only=False),\n",
    ")\n",
    "\n",
    "accelerator = Accelerator(fsdp_plugin=fsdp_plugin)"
   ]
  },
  {
   "cell_type": "markdown",
   "metadata": {
    "id": "shz8Xdv-yRgf"
   },
   "source": [
    "### 1. Load Base Model"
   ]
  },
  {
   "cell_type": "markdown",
   "metadata": {
    "collapsed": false
   },
   "source": [
    "old config, mby good for loading model in google colab?\n",
    "model_id=\"./models_hf/7B\"  # `meta-llama/Llama-2-7b-hf`\n",
    "tokenizer = LlamaTokenizer.from_pretrained(model_id)\n",
    "model =LlamaForCausalLM.from_pretrained(model_id, load_in_8bit=True, device_map='auto', torch_dtype=torch.float16)"
   ]
  },
  {
   "cell_type": "code",
   "execution_count": 2,
   "metadata": {
    "id": "E0Nl5mWL0k2T",
    "ExecuteTime": {
     "end_time": "2023-12-17T17:09:17.645143459Z",
     "start_time": "2023-12-17T17:09:12.135606182Z"
    }
   },
   "outputs": [
    {
     "data": {
      "text/plain": "Loading checkpoint shards:   0%|          | 0/2 [00:00<?, ?it/s]",
      "application/vnd.jupyter.widget-view+json": {
       "version_major": 2,
       "version_minor": 0,
       "model_id": "67f4d0e13d9a44cba126bde16f84a25d"
      }
     },
     "metadata": {},
     "output_type": "display_data"
    }
   ],
   "source": [
    "import torch\n",
    "from transformers import LlamaForCausalLM, LlamaTokenizer, BitsAndBytesConfig\n",
    "\n",
    "base_model_id = \"../../../model/Llama-2-7b-hf\"\n",
    "bnb_config = BitsAndBytesConfig(\n",
    "    load_in_4bit=True,\n",
    "    bnb_4bit_use_double_quant=True,\n",
    "    bnb_4bit_quant_type=\"nf4\",\n",
    "    bnb_4bit_compute_dtype=torch.bfloat16\n",
    ")\n",
    "\n",
    "model = LlamaForCausalLM.from_pretrained(base_model_id, quantization_config=bnb_config)"
   ]
  },
  {
   "cell_type": "code",
   "execution_count": 6,
   "metadata": {
    "id": "haSUDD9HyRgf",
    "ExecuteTime": {
     "end_time": "2023-12-17T17:31:45.669779233Z",
     "start_time": "2023-12-17T17:31:45.218991200Z"
    }
   },
   "outputs": [],
   "source": [
    "tokenizer = LlamaTokenizer.from_pretrained(\n",
    "    base_model_id,\n",
    "    padding_side=\"left\",\n",
    "    add_eos_token=True,\n",
    "    add_bos_token=True,)\n",
    "\n",
    "tokenizer.pad_token = tokenizer.eos_token\n",
    "\n",
    "def generate_and_tokenize_prompt(prompt):\n",
    "    return tokenizer(formatting_func(prompt))"
   ]
  },
  {
   "cell_type": "code",
   "execution_count": 7,
   "outputs": [
    {
     "name": "stderr",
     "output_type": "stream",
     "text": [
      "A decoder-only architecture is being used, but right-padding was detected! For correct generation results, please set `padding_side='left'` when initializing the tokenizer.\n"
     ]
    },
    {
     "name": "stdout",
     "output_type": "stream",
     "text": [
      " What kind of fish is the best?  nobody wants to be the first one to give up.\n",
      "If you are a parent, you probably feel the same way.\n",
      "And you are not alone.\n",
      "The last thing you want to do is to be the first one to give up.\n",
      "You want to keep going, no matter what.\n",
      "You want to be the one who makes it.\n",
      "You want to be the one who wins.\n",
      "And you want to be the one who is remembered.\n",
      "But sometimes, you need to let go.\n",
      "You need to give up.\n",
      "You need to know when to stop.\n",
      "You need to know when to give in.\n",
      "And you need to know when to give up.\n",
      "And sometimes, that’s the hardest thing to do.\n",
      "And that’s what I’m here to tell you.\n",
      "You are not alone. You are not the only one who feels this way.\n",
      "And you are not the only one who wants to be the first one to give up.\n",
      "So don’t give up. Keep going.\n",
      "You are the one who is going to make it.\n",
      "You are the one who is going to win.\n",
      "You are the one who is going to be remembered.\n",
      "And you are\n"
     ]
    }
   ],
   "source": [
    "eval_prompt = \" What kind of fish is the best? \"\n",
    "model_input = tokenizer(eval_prompt, return_tensors=\"pt\").to(\"cuda\")\n",
    "\n",
    "model.eval()\n",
    "with torch.no_grad():\n",
    "    print(tokenizer.decode(model.generate(**model_input, max_new_tokens=256, pad_token_id=2)[0], skip_special_tokens=True))"
   ],
   "metadata": {
    "collapsed": false,
    "ExecuteTime": {
     "end_time": "2023-12-17T17:31:58.507745472Z",
     "start_time": "2023-12-17T17:31:46.496068067Z"
    }
   }
  },
  {
   "cell_type": "markdown",
   "source": [
    "### 2. Load Dataset"
   ],
   "metadata": {
    "id": "QcE4NTeFyRgd"
   }
  },
  {
   "cell_type": "markdown",
   "source": [
    "Here's where you load your own data. You want the data formatted in a `.jsonl` file, structured something like this:"
   ],
   "metadata": {
    "id": "FCc64bfnmd3j"
   }
  },
  {
   "cell_type": "markdown",
   "source": [
    "#### Preparing data\n",
    "\n",
    "To prepare your dataset for loading, all you need is a `.jsonl` file structured something like this:\n",
    "```\n",
    "{\"input\": \"What color is the sky?\", \"output\": \"The sky is blue.\"}\n",
    "{\"input\": \"Where is the best place to get cloud GPUs?\", \"output\": \"Brev.dev\"}\n",
    "```\n",
    "\n",
    "If you choose to model your data as input/output pairs, you'll want to use something like the second `formatting_func` below, which will will combine all your features into one input string.\n"
   ],
   "metadata": {
    "id": "w1N2kdHsmkmR"
   }
  },
  {
   "cell_type": "markdown",
   "source": [
    "from datasets import load_dataset\n",
    "\n",
    "train_dataset = load_dataset('json', data_files='notes.jsonl', split='train')\n",
    "eval_dataset = load_dataset('json', data_files='notes_validation.jsonl', split='train')"
   ],
   "metadata": {
    "collapsed": false
   }
  },
  {
   "cell_type": "markdown",
   "source": [
    "#### Formatting prompts\n",
    "Then create a formatting_func to structure training examples as prompts. In my case, my data was just notes like this:\n",
    "\n",
    "```json\n",
    "{\"note\": \"note-for-model-to-predict\"}\n",
    "{\"note\": \"note-for-model-to-predict-1\"}\n",
    "{\"note\": \"note-for-model-to-predict-2\"}\n",
    "```\n",
    "So the formatting_func I used was:\n",
    "```python\n",
    "def formatting_func(example):\n",
    "    text = f\"### The following is a note by Eevee the Dog: {example['note']}\"\n",
    "    return text\n",
    "```"
   ],
   "metadata": {
    "id": "NQ7kW6zdmkmS"
   }
  },
  {
   "cell_type": "markdown",
   "source": [
    "### 3. Tokenization\n",
    "\n",
    "Set up the tokenizer. Add padding on the left as it [makes training use less memory](https://ai.stackexchange.com/questions/41485/while-fine-tuning-a-decoder-only-llm-like-llama-on-chat-dataset-what-kind-of-pa).\n",
    "\n",
    "\n",
    "For `model_max_length`, it's helpful to get a distribution of your data lengths. Let's first tokenize without the truncation/padding, so we can get a length distribution."
   ],
   "metadata": {
    "id": "UjNdXolqyRgf"
   }
  },
  {
   "cell_type": "code",
   "execution_count": 2,
   "outputs": [],
   "source": [
    "def formatting_func(example):\n",
    "    text = f\"### Question: {example['input_ids']}\\n ### Answer: {example['labels']}\"\n",
    "    return text"
   ],
   "metadata": {
    "ExecuteTime": {
     "end_time": "2023-12-17T15:13:13.339178991Z",
     "start_time": "2023-12-17T15:13:13.306761504Z"
    },
    "id": "Vp5Gl7YcmkmT"
   }
  },
  {
   "cell_type": "markdown",
   "metadata": {
    "id": "WHnKLcq4yRgg"
   },
   "source": [
    "Reformat the prompt and tokenize each sample:"
   ]
  },
  {
   "cell_type": "code",
   "execution_count": 4,
   "metadata": {
    "ExecuteTime": {
     "end_time": "2023-12-17T15:13:38.186256084Z",
     "start_time": "2023-12-17T15:13:17.471989390Z"
    },
    "collapsed": false
   },
   "outputs": [
    {
     "data": {
      "application/vnd.jupyter.widget-view+json": {
       "model_id": "d54c21671bf2466f9eeb4fa2d08d87fe",
       "version_major": 2,
       "version_minor": 0
      },
      "text/plain": [
       "Map:   0%|          | 0/14732 [00:00<?, ? examples/s]"
      ]
     },
     "metadata": {},
     "output_type": "display_data"
    },
    {
     "data": {
      "application/vnd.jupyter.widget-view+json": {
       "model_id": "cbac1287782e4ec8b8fdeaed08abc862",
       "version_major": 2,
       "version_minor": 0
      },
      "text/plain": [
       "Map:   0%|          | 0/14732 [00:00<?, ? examples/s]"
      ]
     },
     "metadata": {},
     "output_type": "display_data"
    },
    {
     "data": {
      "application/vnd.jupyter.widget-view+json": {
       "model_id": "72512305f01b46a38992fa05950c15ec",
       "version_major": 2,
       "version_minor": 0
      },
      "text/plain": [
       "Map:   0%|          | 0/14732 [00:00<?, ? examples/s]"
      ]
     },
     "metadata": {},
     "output_type": "display_data"
    },
    {
     "data": {
      "application/vnd.jupyter.widget-view+json": {
       "model_id": "74bfd4ad6c5444b595729726ec2c2ec7",
       "version_major": 2,
       "version_minor": 0
      },
      "text/plain": [
       "Map:   0%|          | 0/818 [00:00<?, ? examples/s]"
      ]
     },
     "metadata": {},
     "output_type": "display_data"
    },
    {
     "data": {
      "application/vnd.jupyter.widget-view+json": {
       "model_id": "8b3058b39c8e4dcc9c8b8d6a55c46e63",
       "version_major": 2,
       "version_minor": 0
      },
      "text/plain": [
       "Map:   0%|          | 0/818 [00:00<?, ? examples/s]"
      ]
     },
     "metadata": {},
     "output_type": "display_data"
    },
    {
     "data": {
      "application/vnd.jupyter.widget-view+json": {
       "model_id": "b1047350e74b4588a5230a6d84b26ed9",
       "version_major": 2,
       "version_minor": 0
      },
      "text/plain": [
       "Map:   0%|          | 0/818 [00:00<?, ? examples/s]"
      ]
     },
     "metadata": {},
     "output_type": "display_data"
    }
   ],
   "source": [
    "train_dataset = supply_train_dataset_in_original_form\n",
    "eval_dataset = supply_validation_dataset_in_original_form"
   ]
  },
  {
   "cell_type": "code",
   "execution_count": 6,
   "outputs": [
    {
     "data": {
      "application/vnd.jupyter.widget-view+json": {
       "model_id": "dd15cd7b913c499cb4c95d42f879e665",
       "version_major": 2,
       "version_minor": 0
      },
      "text/plain": [
       "Map:   0%|          | 0/1562 [00:00<?, ? examples/s]"
      ]
     },
     "metadata": {},
     "output_type": "display_data"
    },
    {
     "data": {
      "application/vnd.jupyter.widget-view+json": {
       "model_id": "0a77147084e444bd8f7e11b0d3e334b8",
       "version_major": 2,
       "version_minor": 0
      },
      "text/plain": [
       "Map:   0%|          | 0/84 [00:00<?, ? examples/s]"
      ]
     },
     "metadata": {},
     "output_type": "display_data"
    }
   ],
   "source": [
    "tokenized_train_dataset = train_dataset.map(generate_and_tokenize_prompt)\n",
    "tokenized_val_dataset = eval_dataset.map(generate_and_tokenize_prompt)"
   ],
   "metadata": {
    "collapsed": false
   }
  },
  {
   "cell_type": "markdown",
   "metadata": {
    "id": "mtqWK49TmkmV"
   },
   "source": [
    "Let's get a distribution of our dataset lengths, so we can determine the appropriate `max_length` for our input tensors."
   ]
  },
  {
   "cell_type": "code",
   "execution_count": 7,
   "metadata": {
    "ExecuteTime": {
     "end_time": "2023-12-17T15:15:23.011182851Z",
     "start_time": "2023-12-17T15:14:59.619174014Z"
    },
    "id": "pRoItZu-mkmV"
   },
   "outputs": [
    {
     "name": "stdout",
     "output_type": "stream",
     "text": [
      "1646\n"
     ]
    },
    {
     "data": {
      "image/png": "[encoded data removed]",
      "text/plain": [
       "<Figure size 1000x600 with 1 Axes>"
      ]
     },
     "metadata": {},
     "output_type": "display_data"
    }
   ],
   "source": [
    "import matplotlib.pyplot as plt\n",
    "\n",
    "def plot_data_lengths(tokenize_train_dataset, tokenized_val_dataset):\n",
    "    lengths = [len(x['input_ids']) for x in tokenized_train_dataset]\n",
    "    lengths += [len(x['input_ids']) for x in tokenized_val_dataset]\n",
    "    print(len(lengths))\n",
    "\n",
    "    # Plotting the histogram\n",
    "    plt.figure(figsize=(10, 6))\n",
    "    plt.hist(lengths, bins=20, alpha=0.7, color='blue')\n",
    "    plt.xlabel('Length of input_ids')\n",
    "    plt.ylabel('Frequency')\n",
    "    plt.title('Distribution of Lengths of input_ids')\n",
    "    plt.show()\n",
    "\n",
    "plot_data_lengths(tokenized_train_dataset, tokenized_val_dataset)"
   ]
  },
  {
   "cell_type": "markdown",
   "metadata": {
    "id": "nBk4Qp_vyRgh"
   },
   "source": [
    "From here, you can choose where you'd like to set the `max_length` to be. You can truncate and pad training examples to fit them to your chosen size. Be aware that choosing a larger `max_length` has its compute tradeoffs.\n",
    "\n",
    "I'm using my personal notes to train the model, and they vary greatly in length. I spent some time cleaning the dataset so the samples were about the same length, cutting up individual notes if needed, but being sure to not cut in the middle of a word or sentence."
   ]
  },
  {
   "cell_type": "markdown",
   "metadata": {
    "id": "RG8beiojmkmW"
   },
   "source": [
    "Now let's tokenize again with padding and truncation, and set up the tokenize function to make labels and input_ids the same. This is basically what [self-supervised fine-tuning is](https://neptune.ai/blog/self-supervised-learning)."
   ]
  },
  {
   "cell_type": "code",
   "execution_count": 11,
   "metadata": {
    "ExecuteTime": {
     "end_time": "2023-12-17T15:20:17.226086547Z",
     "start_time": "2023-12-17T15:20:17.182007859Z"
    },
    "id": "fHkHfaxxmkmW"
   },
   "outputs": [],
   "source": [
    "max_length = 512 # This was an appropriate max length for my dataset\n",
    "\n",
    "def generate_and_tokenize_prompt2(prompt):\n",
    "    result = tokenizer(\n",
    "        formatting_func(prompt),\n",
    "        truncation=True,\n",
    "        max_length=max_length,\n",
    "        padding=\"max_length\",\n",
    "    )\n",
    "    result[\"labels\"] = result[\"input_ids\"].copy()\n",
    "    return result"
   ]
  },
  {
   "cell_type": "code",
   "execution_count": 12,
   "metadata": {
    "ExecuteTime": {
     "end_time": "2023-12-17T15:21:17.032165656Z",
     "start_time": "2023-12-17T15:20:19.330897316Z"
    },
    "id": "m711Ls91mkmW"
   },
   "outputs": [
    {
     "data": {
      "application/vnd.jupyter.widget-view+json": {
       "model_id": "73cddf9fb6f2414dab0bddc066081ad7",
       "version_major": 2,
       "version_minor": 0
      },
      "text/plain": [
       "Map:   0%|          | 0/1562 [00:00<?, ? examples/s]"
      ]
     },
     "metadata": {},
     "output_type": "display_data"
    },
    {
     "data": {
      "application/vnd.jupyter.widget-view+json": {
       "model_id": "1306ebeb853a44d28ed17ba4493d1a5a",
       "version_major": 2,
       "version_minor": 0
      },
      "text/plain": [
       "Map:   0%|          | 0/84 [00:00<?, ? examples/s]"
      ]
     },
     "metadata": {},
     "output_type": "display_data"
    }
   ],
   "source": [
    "tokenized_train_dataset = train_dataset.map(generate_and_tokenize_prompt2)\n",
    "tokenized_val_dataset = eval_dataset.map(generate_and_tokenize_prompt2)"
   ]
  },
  {
   "cell_type": "markdown",
   "metadata": {
    "id": "TQL796OayRgh"
   },
   "source": [
    "Check that `input_ids` is padded on the left with the `eos_token` (2) and there is an `eos_token` 2 added to the end, and the prompt starts with a `bos_token` (1)."
   ]
  },
  {
   "cell_type": "code",
   "execution_count": 15,
   "metadata": {
    "ExecuteTime": {
     "end_time": "2023-12-17T15:22:01.307801470Z",
     "start_time": "2023-12-17T15:22:01.233474586Z"
    },
    "id": "uCFzwBd7mkmW"
   },
   "outputs": [
    {
     "name": "stdout",
     "output_type": "stream",
     "text": [
      "[1, 835, 894, 29901, 518, 29906, 29953, 29906, 29947, 29929, 29892, 29871, 29906, 29929, 29929, 29900, 29896, 29892, 29871, 29896, 29941, 29892, 29871, 29941, 29955, 29947, 29906, 29892, 29871, 29947, 29900, 29896, 29892, 29871, 29896, 29900, 29955, 29945, 29941, 29892, 29871, 29941, 29900, 29946, 29892, 29871, 29945, 29947, 29955, 29900, 29892, 29871, 29906, 29929, 29947, 29929, 29906, 29892, 29871, 29945, 29946, 29900, 29892, 29871, 29906, 29941, 29906, 29947, 29941, 29892, 29871, 29953, 29955, 29900, 29892, 29871, 29946, 29929, 29947, 29906, 29892, 29871, 29906, 29929, 29947, 29929, 29906, 29892, 29871, 29896, 29941, 29953, 29941, 29892, 29871, 29953, 29955, 29900, 29892, 29871, 29906, 29947, 29929, 29892, 29871, 29906, 29906, 29900, 29929, 29892, 29871, 29946, 29955, 29896, 29892, 29871, 29906, 29953, 29941, 29892, 29871, 29906, 29955, 29900, 29892, 29871, 29947, 29953, 29900, 29892, 29871, 29906, 29929, 29947, 29947, 29929, 29892, 29871, 29906, 29892, 29871, 29906, 29892, 29871, 29896, 29892, 29871, 29953, 29929, 29929, 29896, 29892, 29871, 29941, 29900, 29941, 29946, 29892, 29871, 29953, 29955, 29945, 29892, 29871, 29946, 29946, 29945, 29892, 29871, 29955, 29929, 29906, 29947, 29892, 29871, 29906, 29929, 29929, 29900, 29896, 29892, 29871, 29896, 29941, 29892, 29871, 29906, 29929, 29929, 29906, 29946, 29892, 29871, 29896, 29896, 29941, 29896, 29892, 29871, 29906, 29929, 29929, 29900, 29896, 29892, 29871, 29896, 29929, 29941, 29947, 29892, 29871, 29941, 29953, 29953, 29892, 29871, 29947, 29953, 29946, 29892, 29871, 29941, 29900, 29946, 29892, 29871, 29955, 29946, 29947, 29892, 29871, 29941, 29953, 29941, 29892, 29871, 29906, 29953, 29941, 29945, 29892, 29871, 29906, 29929, 29929, 29955, 29941, 29892, 29871, 29941, 29900, 29900, 29900, 29946, 29892, 29871, 29896, 29941, 29892, 29871, 29896, 29946, 29955, 29953, 29929, 29892, 29871, 29946, 29945, 29896, 29945, 29892, 29871, 29906, 29929, 29929, 29900, 29896, 29892, 29871, 29941, 29929, 29929, 29892, 29871, 29941, 29946, 29900, 29892, 29871, 29906, 29929, 29929, 29929, 29896, 29892, 29871, 29947, 29947, 29955, 29892, 29871, 29896, 29906, 29953, 29906, 29946, 29892, 29871, 29945, 29929, 29906, 29892, 29871, 29955, 29896, 29946, 29892, 29871, 29946, 29896, 29896, 29892, 29871, 29946, 29946, 29945, 29892, 29871, 29896, 29896, 29941, 29929, 29892, 29871, 29929, 29947, 29896, 29896, 29892, 29871, 29906, 29906, 29929, 29929, 29941, 29892, 29871, 29896, 29941, 29892, 29871, 29906, 29929, 29929, 29906, 29946, 29892, 29871, 29896, 29896, 29941, 29896, 29892, 29871, 29906, 29929, 29929, 29900, 29896, 29892, 29871, 29941, 29955, 29945, 29900, 29892, 29871, 29906, 29929, 29929, 29955, 29941, 29892, 29871, 29941, 29900, 29900, 29900, 29946, 29892, 29871, 29896, 29941, 29892, 29871, 29896, 29946, 29955, 29953, 29929, 29892, 29871, 29946, 29945, 29896, 29945, 29892, 29871, 29906, 29929, 29929, 29900, 29896, 29892, 29871, 29941, 29900, 29953, 29892, 29871, 29941, 29955, 29953, 29941, 29892, 29871, 29941, 29906, 29947, 29906, 29892, 29871, 29906, 29929, 29929, 29896, 29945, 29892, 29871, 29906, 29929, 29947, 29955, 29941, 29892, 29871, 29906, 29896, 29946, 29929, 29892, 29871, 29946, 29946, 29945, 29892, 29871, 29945, 29896, 29945, 29892, 29871, 29941, 29953, 29953, 29892, 29871, 29906, 29906, 29929, 29929, 29941, 29892, 29871, 29896, 29941, 29892, 29871, 29906, 29929, 29929, 29906, 29946, 29892, 29871, 29896, 29896, 29941, 29896, 29892, 29871, 29906, 29929, 29929, 29900, 29896, 29892, 29871, 29945, 29953, 29955, 29946, 29892, 29871, 29906, 29929, 29947, 29929, 29906, 2]\n"
     ]
    }
   ],
   "source": [
    "print(tokenized_train_dataset[1]['input_ids'])"
   ]
  },
  {
   "cell_type": "markdown",
   "metadata": {
    "id": "Z8Qqq2E0mkmX"
   },
   "source": [
    "Now all the samples should be the same length, `max_length`."
   ]
  },
  {
   "cell_type": "code",
   "execution_count": 16,
   "metadata": {
    "ExecuteTime": {
     "end_time": "2023-12-17T15:22:33.274717168Z",
     "start_time": "2023-12-17T15:22:32.340840075Z"
    },
    "id": "eLEukiAVmkmX"
   },
   "outputs": [
    {
     "name": "stdout",
     "output_type": "stream",
     "text": [
      "1646\n"
     ]
    },
    {
     "data": {
      "image/png": "[encoded data removed]",
      "text/plain": [
       "<Figure size 1000x600 with 1 Axes>"
      ]
     },
     "metadata": {},
     "output_type": "display_data"
    }
   ],
   "source": [
    "plot_data_lengths(tokenized_train_dataset, tokenized_val_dataset)"
   ]
  },
  {
   "cell_type": "markdown",
   "metadata": {
    "id": "LFpeDgWJmkmX"
   },
   "source": [
    "### How does the base model do?"
   ]
  },
  {
   "cell_type": "markdown",
   "metadata": {
    "id": "Vxbl4ACsyRgi"
   },
   "source": [
    "Optionally, you can check how Llama 2 7B does on one of your data samples. For example, if you have a dataset of users' biometric data to their health scores, you could test the following `eval_prompt`:"
   ]
  },
  {
   "cell_type": "code",
   "execution_count": 17,
   "metadata": {
    "ExecuteTime": {
     "end_time": "2023-12-17T15:22:39.822230728Z",
     "start_time": "2023-12-17T15:22:39.774265235Z"
    },
    "id": "gOxnx-cAyRgi"
   },
   "outputs": [],
   "source": [
    "eval_prompt = \"\"\" Given the following biometric data, score the users' health, from 0-100.\n",
    "\n",
    "### Biometric Data:\n",
    "Temperature=98.2,\n",
    "Sex=F,\n",
    "Age=29,\n",
    "Height=69 inches,\n",
    "Weight=160 lbs,\n",
    "V02_Max=55,\n",
    "HRV=55\n",
    "\n",
    "### Health Score:\n",
    "\"\"\""
   ]
  },
  {
   "cell_type": "markdown",
   "metadata": {
    "id": "ODyKB5drmkmb"
   },
   "source": [
    "The `eval_prompt` I used was:"
   ]
  },
  {
   "cell_type": "code",
   "execution_count": 19,
   "metadata": {
    "ExecuteTime": {
     "end_time": "2023-12-17T15:22:59.156518421Z",
     "start_time": "2023-12-17T15:22:47.356564202Z"
    },
    "id": "NidIuFXMyRgi"
   },
   "outputs": [
    {
     "name": "stderr",
     "output_type": "stream",
     "text": [
      "A decoder-only architecture is being used, but right-padding was detected! For correct generation results, please set `padding_side='left'` when initializing the tokenizer.\n"
     ]
    },
    {
     "name": "stdout",
     "output_type": "stream",
     "text": [
      " The following is a note by Eevee the Dog: #  everybody's free (to wear sunscreen)\n",
      "I'm going to be a little self-indulgent and post a few pictures of my kids. I'm not doing it for my own benefit, but rather to share the joy of a father's pride.\n",
      "The first picture is of my daughter, who is 16 years old and a high school junior. She has been a dancer since she was 3 years old, and has been dancing with the same studio since then. She has worked very hard to achieve her current level of dance, and she has done it all on her own. She has never had a private lesson, and she has never had a parent helping her with her homework. She has been a very independent child since she was very young, and she has always been very good at making her own decisions. She has a very strong work ethic, and she is always willing to put in the time and effort to be the best she can be.\n",
      "The second picture is of my son, who is 13 years old and a middle schooler. He has been a dancer since he was 2 years old, and has been dancing with the same studio since then\n"
     ]
    }
   ],
   "source": [
    "eval_prompt = \" The following is a note by Eevee the Dog: # \"\n",
    "model_input = tokenizer(eval_prompt, return_tensors=\"pt\").to(\"cuda\")\n",
    "\n",
    "model.eval()\n",
    "with torch.no_grad():\n",
    "    print(tokenizer.decode(model.generate(**model_input, max_new_tokens=256, pad_token_id=2)[0], skip_special_tokens=True))"
   ]
  },
  {
   "cell_type": "markdown",
   "metadata": {
    "id": "dCAWeCzZyRgi"
   },
   "source": [
    "Observe how the model does out of the box."
   ]
  },
  {
   "cell_type": "markdown",
   "metadata": {
    "id": "AapDoyfAyRgi"
   },
   "source": [
    "### 4. Set Up LoRA"
   ]
  },
  {
   "cell_type": "markdown",
   "metadata": {
    "id": "Mp2gMi1ZzGET"
   },
   "source": [
    "Now, to start our fine-tuning, we have to apply some preprocessing to the model to prepare it for training. For that use the `prepare_model_for_kbit_training` method from PEFT."
   ]
  },
  {
   "cell_type": "code",
   "execution_count": 20,
   "metadata": {
    "ExecuteTime": {
     "end_time": "2023-12-17T15:23:36.676483659Z",
     "start_time": "2023-12-17T15:23:36.643407757Z"
    },
    "id": "a9EUEDAl0ss3"
   },
   "outputs": [],
   "source": [
    "from peft import prepare_model_for_kbit_training\n",
    "\n",
    "model.gradient_checkpointing_enable()\n",
    "model = prepare_model_for_kbit_training(model)"
   ]
  },
  {
   "cell_type": "code",
   "execution_count": 21,
   "metadata": {
    "ExecuteTime": {
     "end_time": "2023-12-17T15:23:37.958214986Z",
     "start_time": "2023-12-17T15:23:37.886121114Z"
    },
    "id": "gkIcwsSU01EB"
   },
   "outputs": [],
   "source": [
    "def print_trainable_parameters(model):\n",
    "    \"\"\"\n",
    "    Prints the number of trainable parameters in the model.\n",
    "    \"\"\"\n",
    "    trainable_params = 0\n",
    "    all_param = 0\n",
    "    for _, param in model.named_parameters():\n",
    "        all_param += param.numel()\n",
    "        if param.requires_grad:\n",
    "            trainable_params += param.numel()\n",
    "    print(\n",
    "        f\"trainable params: {trainable_params} || all params: {all_param} || trainable%: {100 * trainable_params / all_param}\"\n",
    "    )"
   ]
  },
  {
   "cell_type": "markdown",
   "metadata": {
    "id": "cUYEpEK-yRgj"
   },
   "source": [
    "Let's print the model to examine its layers, as we will apply QLoRA to all the linear layers of the model. Those layers are `q_proj`, `k_proj`, `v_proj`, `o_proj`, `gate_proj`, `up_proj`, `down_proj`, and `lm_head`."
   ]
  },
  {
   "cell_type": "code",
   "execution_count": 22,
   "metadata": {
    "ExecuteTime": {
     "end_time": "2023-12-17T15:23:39.535772174Z",
     "start_time": "2023-12-17T15:23:39.525432665Z"
    },
    "id": "XshGNsbxyRgj",
    "scrolled": true
   },
   "outputs": [
    {
     "name": "stdout",
     "output_type": "stream",
     "text": [
      "LlamaForCausalLM(\n",
      "  (model): LlamaModel(\n",
      "    (embed_tokens): Embedding(32000, 4096)\n",
      "    (layers): ModuleList(\n",
      "      (0-31): 32 x LlamaDecoderLayer(\n",
      "        (self_attn): LlamaSdpaAttention(\n",
      "          (q_proj): Linear4bit(in_features=4096, out_features=4096, bias=False)\n",
      "          (k_proj): Linear4bit(in_features=4096, out_features=4096, bias=False)\n",
      "          (v_proj): Linear4bit(in_features=4096, out_features=4096, bias=False)\n",
      "          (o_proj): Linear4bit(in_features=4096, out_features=4096, bias=False)\n",
      "          (rotary_emb): LlamaRotaryEmbedding()\n",
      "        )\n",
      "        (mlp): LlamaMLP(\n",
      "          (gate_proj): Linear4bit(in_features=4096, out_features=11008, bias=False)\n",
      "          (up_proj): Linear4bit(in_features=4096, out_features=11008, bias=False)\n",
      "          (down_proj): Linear4bit(in_features=11008, out_features=4096, bias=False)\n",
      "          (act_fn): SiLU()\n",
      "        )\n",
      "        (input_layernorm): LlamaRMSNorm()\n",
      "        (post_attention_layernorm): LlamaRMSNorm()\n",
      "      )\n",
      "    )\n",
      "    (norm): LlamaRMSNorm()\n",
      "  )\n",
      "  (lm_head): Linear(in_features=4096, out_features=32000, bias=False)\n",
      ")\n"
     ]
    }
   ],
   "source": [
    "print(model)"
   ]
  },
  {
   "cell_type": "markdown",
   "metadata": {
    "id": "I6mTLuQJyRgj"
   },
   "source": [
    "Here we define the LoRA config.\n",
    "\n",
    "`r` is the rank of the low-rank matrix used in the adapters, which thus controls the number of parameters trained. A higher rank will allow for more expressivity, but there is a compute tradeoff.\n",
    "\n",
    "`alpha` is the scaling factor for the learned weights. The weight matrix is scaled by `alpha/r`, and thus a higher value for `alpha` assigns more weight to the LoRA activations.\n",
    "\n",
    "The values used in the QLoRA paper were `r=64` and `lora_alpha=16`, and these are said to generalize well, but we will use `r=32` and `lora_alpha=64` so that we have more emphasis on the new fine-tuned data while also reducing computational complexity."
   ]
  },
  {
   "cell_type": "code",
   "execution_count": 26,
   "metadata": {
    "ExecuteTime": {
     "end_time": "2023-12-17T15:24:09.145368138Z",
     "start_time": "2023-12-17T15:24:07.733019026Z"
    },
    "id": "Ybeyl20n3dYH"
   },
   "outputs": [
    {
     "name": "stdout",
     "output_type": "stream",
     "text": [
      "trainable params: 81108992 || all params: 3581521920 || trainable%: 2.264651559077991\n"
     ]
    }
   ],
   "source": [
    "from peft import LoraConfig, get_peft_model\n",
    "\n",
    "config = LoraConfig(\n",
    "    r=32,\n",
    "    lora_alpha=64,\n",
    "    target_modules=[\n",
    "        \"q_proj\",\n",
    "        \"k_proj\",\n",
    "        \"v_proj\",\n",
    "        \"o_proj\",\n",
    "        \"gate_proj\",\n",
    "        \"up_proj\",\n",
    "        \"down_proj\",\n",
    "        \"lm_head\",\n",
    "    ],\n",
    "    bias=\"none\",\n",
    "    lora_dropout=0.05,  # Conventional\n",
    "    task_type=\"CAUSAL_LM\",\n",
    ")\n",
    "\n",
    "model = get_peft_model(model, config)\n",
    "print_trainable_parameters(model)\n",
    "\n",
    "# Apply the accelerator. You can comment this out to remove the accelerator.\n",
    "model = accelerator.prepare_model(model)"
   ]
  },
  {
   "cell_type": "markdown",
   "metadata": {
    "id": "X_FHi_VLyRgn"
   },
   "source": [
    "See how the model looks different now, with the LoRA adapters added:"
   ]
  },
  {
   "cell_type": "code",
   "execution_count": 27,
   "metadata": {
    "ExecuteTime": {
     "end_time": "2023-12-17T15:24:14.648374448Z",
     "start_time": "2023-12-17T15:24:14.590978115Z"
    },
    "id": "IaYMWak4yRgn"
   },
   "outputs": [
    {
     "name": "stdout",
     "output_type": "stream",
     "text": [
      "PeftModelForCausalLM(\n",
      "  (base_model): LoraModel(\n",
      "    (model): PeftModelForCausalLM(\n",
      "      (base_model): LoraModel(\n",
      "        (model): PeftModelForCausalLM(\n",
      "          (base_model): LoraModel(\n",
      "            (model): LlamaForCausalLM(\n",
      "              (model): LlamaModel(\n",
      "                (embed_tokens): Embedding(32000, 4096)\n",
      "                (layers): ModuleList(\n",
      "                  (0-31): 32 x LlamaDecoderLayer(\n",
      "                    (self_attn): LlamaSdpaAttention(\n",
      "                      (q_proj): lora.Linear4bit(\n",
      "                        (base_layer): Linear4bit(in_features=4096, out_features=4096, bias=False)\n",
      "                        (lora_dropout): ModuleDict(\n",
      "                          (default): Dropout(p=0.05, inplace=False)\n",
      "                        )\n",
      "                        (lora_A): ModuleDict(\n",
      "                          (default): Linear(in_features=4096, out_features=32, bias=False)\n",
      "                        )\n",
      "                        (lora_B): ModuleDict(\n",
      "                          (default): Linear(in_features=32, out_features=4096, bias=False)\n",
      "                        )\n",
      "                        (lora_embedding_A): ParameterDict()\n",
      "                        (lora_embedding_B): ParameterDict()\n",
      "                      )\n",
      "                      (k_proj): lora.Linear4bit(\n",
      "                        (base_layer): Linear4bit(in_features=4096, out_features=4096, bias=False)\n",
      "                        (lora_dropout): ModuleDict(\n",
      "                          (default): Dropout(p=0.05, inplace=False)\n",
      "                        )\n",
      "                        (lora_A): ModuleDict(\n",
      "                          (default): Linear(in_features=4096, out_features=32, bias=False)\n",
      "                        )\n",
      "                        (lora_B): ModuleDict(\n",
      "                          (default): Linear(in_features=32, out_features=4096, bias=False)\n",
      "                        )\n",
      "                        (lora_embedding_A): ParameterDict()\n",
      "                        (lora_embedding_B): ParameterDict()\n",
      "                      )\n",
      "                      (v_proj): lora.Linear4bit(\n",
      "                        (base_layer): Linear4bit(in_features=4096, out_features=4096, bias=False)\n",
      "                        (lora_dropout): ModuleDict(\n",
      "                          (default): Dropout(p=0.05, inplace=False)\n",
      "                        )\n",
      "                        (lora_A): ModuleDict(\n",
      "                          (default): Linear(in_features=4096, out_features=32, bias=False)\n",
      "                        )\n",
      "                        (lora_B): ModuleDict(\n",
      "                          (default): Linear(in_features=32, out_features=4096, bias=False)\n",
      "                        )\n",
      "                        (lora_embedding_A): ParameterDict()\n",
      "                        (lora_embedding_B): ParameterDict()\n",
      "                      )\n",
      "                      (o_proj): lora.Linear4bit(\n",
      "                        (base_layer): Linear4bit(in_features=4096, out_features=4096, bias=False)\n",
      "                        (lora_dropout): ModuleDict(\n",
      "                          (default): Dropout(p=0.05, inplace=False)\n",
      "                        )\n",
      "                        (lora_A): ModuleDict(\n",
      "                          (default): Linear(in_features=4096, out_features=32, bias=False)\n",
      "                        )\n",
      "                        (lora_B): ModuleDict(\n",
      "                          (default): Linear(in_features=32, out_features=4096, bias=False)\n",
      "                        )\n",
      "                        (lora_embedding_A): ParameterDict()\n",
      "                        (lora_embedding_B): ParameterDict()\n",
      "                      )\n",
      "                      (rotary_emb): LlamaRotaryEmbedding()\n",
      "                    )\n",
      "                    (mlp): LlamaMLP(\n",
      "                      (gate_proj): lora.Linear4bit(\n",
      "                        (base_layer): Linear4bit(in_features=4096, out_features=11008, bias=False)\n",
      "                        (lora_dropout): ModuleDict(\n",
      "                          (default): Dropout(p=0.05, inplace=False)\n",
      "                        )\n",
      "                        (lora_A): ModuleDict(\n",
      "                          (default): Linear(in_features=4096, out_features=32, bias=False)\n",
      "                        )\n",
      "                        (lora_B): ModuleDict(\n",
      "                          (default): Linear(in_features=32, out_features=11008, bias=False)\n",
      "                        )\n",
      "                        (lora_embedding_A): ParameterDict()\n",
      "                        (lora_embedding_B): ParameterDict()\n",
      "                      )\n",
      "                      (up_proj): lora.Linear4bit(\n",
      "                        (base_layer): Linear4bit(in_features=4096, out_features=11008, bias=False)\n",
      "                        (lora_dropout): ModuleDict(\n",
      "                          (default): Dropout(p=0.05, inplace=False)\n",
      "                        )\n",
      "                        (lora_A): ModuleDict(\n",
      "                          (default): Linear(in_features=4096, out_features=32, bias=False)\n",
      "                        )\n",
      "                        (lora_B): ModuleDict(\n",
      "                          (default): Linear(in_features=32, out_features=11008, bias=False)\n",
      "                        )\n",
      "                        (lora_embedding_A): ParameterDict()\n",
      "                        (lora_embedding_B): ParameterDict()\n",
      "                      )\n",
      "                      (down_proj): lora.Linear4bit(\n",
      "                        (base_layer): Linear4bit(in_features=11008, out_features=4096, bias=False)\n",
      "                        (lora_dropout): ModuleDict(\n",
      "                          (default): Dropout(p=0.05, inplace=False)\n",
      "                        )\n",
      "                        (lora_A): ModuleDict(\n",
      "                          (default): Linear(in_features=11008, out_features=32, bias=False)\n",
      "                        )\n",
      "                        (lora_B): ModuleDict(\n",
      "                          (default): Linear(in_features=32, out_features=4096, bias=False)\n",
      "                        )\n",
      "                        (lora_embedding_A): ParameterDict()\n",
      "                        (lora_embedding_B): ParameterDict()\n",
      "                      )\n",
      "                      (act_fn): SiLU()\n",
      "                    )\n",
      "                    (input_layernorm): LlamaRMSNorm()\n",
      "                    (post_attention_layernorm): LlamaRMSNorm()\n",
      "                  )\n",
      "                )\n",
      "                (norm): LlamaRMSNorm()\n",
      "              )\n",
      "              (lm_head): lora.Linear(\n",
      "                (base_layer): Linear(in_features=4096, out_features=32000, bias=False)\n",
      "                (lora_dropout): ModuleDict(\n",
      "                  (default): Dropout(p=0.05, inplace=False)\n",
      "                )\n",
      "                (lora_A): ModuleDict(\n",
      "                  (default): Linear(in_features=4096, out_features=32, bias=False)\n",
      "                )\n",
      "                (lora_B): ModuleDict(\n",
      "                  (default): Linear(in_features=32, out_features=32000, bias=False)\n",
      "                )\n",
      "                (lora_embedding_A): ParameterDict()\n",
      "                (lora_embedding_B): ParameterDict()\n",
      "              )\n",
      "            )\n",
      "          )\n",
      "        )\n",
      "      )\n",
      "    )\n",
      "  )\n",
      ")\n"
     ]
    }
   ],
   "source": [
    "print(model)"
   ]
  },
  {
   "cell_type": "markdown",
   "metadata": {
    "id": "-9KNTJZkyRgn"
   },
   "source": [
    "\n",
    "Let's use Weights & Biases to track our training metrics. You'll need to apply an API key when prompted. Feel free to skip this if you'd like, and just comment out the `wandb` parameters in the `Trainer` definition below."
   ]
  },
  {
   "cell_type": "code",
   "execution_count": 28,
   "metadata": {
    "ExecuteTime": {
     "end_time": "2023-12-17T15:26:06.734181073Z",
     "start_time": "2023-12-17T15:24:18.233791061Z"
    },
    "id": "DDqUNyIoyRgo"
   },
   "outputs": [
    {
     "name": "stderr",
     "output_type": "stream",
     "text": [
      "\u001B[34m\u001B[1mwandb\u001B[0m: Logging into wandb.ai. (Learn how to deploy a W&B server locally: https://wandb.me/wandb-server)\n",
      "\u001B[34m\u001B[1mwandb\u001B[0m: You can find your API key in your browser here: https://wandb.ai/authorize\n",
      "\u001B[34m\u001B[1mwandb\u001B[0m: Paste an API key from your profile and hit enter, or press ctrl+c to quit:\u001B[34m\u001B[1mwandb\u001B[0m: Appending key for api.wandb.ai to your netrc file: /home/mighty/.netrc\n"
     ]
    }
   ],
   "source": [
    "!pip install -q wandb -U\n",
    "\n",
    "import wandb, os\n",
    "wandb.login()\n",
    "\n",
    "wandb_project = \"journal-finetune\"\n",
    "if len(wandb_project) > 0:\n",
    "    os.environ[\"WANDB_PROJECT\"] = wandb_project"
   ]
  },
  {
   "cell_type": "markdown",
   "metadata": {
    "id": "_0MOtwf3zdZp"
   },
   "source": [
    "### 5. Run Training!"
   ]
  },
  {
   "cell_type": "markdown",
   "metadata": {
    "id": "fEe0uWYSyRgo"
   },
   "source": [
    "I didn't have a lot of training samples, so I used only 500 steps. I found that the end product worked well.\n",
    "\n",
    "A note on training. You can set the `max_steps` to be high initially, and examine at what step your model's performance starts to degrade. There is where you'll find a sweet spot for how many steps to perform. For example, say you start with 1000 steps, and find that at around 500 steps the model starts overfitting - the validation loss goes up (bad) while the training loss goes down significantly, meaning the model is learning the training set really well, but is unable to generalize to new datapoints. Therefore, 500 steps would be your sweet spot, so you would use the `checkpoint-500` model repo in your output dir (`llama2-7b-journal-finetune`) as your final model in step 6 below.\n",
    "\n",
    "You can interrupt the process via Kernel -> Interrupt Kernel in the top nav bar once you realize you didn't need to train anymore."
   ]
  },
  {
   "cell_type": "code",
   "execution_count": 29,
   "metadata": {
    "ExecuteTime": {
     "end_time": "2023-12-17T15:26:24.858683209Z",
     "start_time": "2023-12-17T15:26:24.802222668Z"
    },
    "id": "c_L1131GyRgo"
   },
   "outputs": [],
   "source": [
    "if torch.cuda.device_count() > 1: # If more than 1 GPU\n",
    "    model.is_parallelizable = True\n",
    "    model.model_parallel = True"
   ]
  },
  {
   "cell_type": "code",
   "execution_count": 30,
   "metadata": {
    "ExecuteTime": {
     "end_time": "2023-12-17T16:00:37.809362087Z",
     "start_time": "2023-12-17T15:26:26.130397645Z"
    },
    "id": "jq0nX33BmfaC"
   },
   "outputs": [
    {
     "data": {
      "text/html": [
       "Changes to your `wandb` environment variables will be ignored because your `wandb` session has already started. For more information on how to modify your settings with `wandb.init()` arguments, please refer to <a href='https://wandb.me/wandb-init' target=\"_blank\">the W&B docs</a>."
      ],
      "text/plain": [
       "<IPython.core.display.HTML object>"
      ]
     },
     "metadata": {},
     "output_type": "display_data"
    },
    {
     "name": "stderr",
     "output_type": "stream",
     "text": [
      "\u001B[34m\u001B[1mwandb\u001B[0m: Currently logged in as: \u001B[33mpowerkrieger\u001B[0m. Use \u001B[1m`wandb login --relogin`\u001B[0m to force relogin\n"
     ]
    },
    {
     "data": {
      "text/html": [
       "Tracking run with wandb version 0.16.1"
      ],
      "text/plain": [
       "<IPython.core.display.HTML object>"
      ]
     },
     "metadata": {},
     "output_type": "display_data"
    },
    {
     "data": {
      "text/html": [
       "Run data is saved locally in <code>/home/mighty/PycharmProjects/llama-recipes/examples/wandb/run-20231217_162626-l3r6aouc</code>"
      ],
      "text/plain": [
       "<IPython.core.display.HTML object>"
      ]
     },
     "metadata": {},
     "output_type": "display_data"
    },
    {
     "data": {
      "text/html": [
       "Syncing run <strong><a href='https://wandb.ai/powerkrieger/journal-finetune/runs/l3r6aouc' target=\"_blank\">llama2-7b-journal-finetune-2023-12-17-16-26</a></strong> to <a href='https://wandb.ai/powerkrieger/journal-finetune' target=\"_blank\">Weights & Biases</a> (<a href='https://wandb.me/run' target=\"_blank\">docs</a>)<br/>"
      ],
      "text/plain": [
       "<IPython.core.display.HTML object>"
      ]
     },
     "metadata": {},
     "output_type": "display_data"
    },
    {
     "data": {
      "text/html": [
       " View project at <a href='https://wandb.ai/powerkrieger/journal-finetune' target=\"_blank\">https://wandb.ai/powerkrieger/journal-finetune</a>"
      ],
      "text/plain": [
       "<IPython.core.display.HTML object>"
      ]
     },
     "metadata": {},
     "output_type": "display_data"
    },
    {
     "data": {
      "text/html": [
       " View run at <a href='https://wandb.ai/powerkrieger/journal-finetune/runs/l3r6aouc' target=\"_blank\">https://wandb.ai/powerkrieger/journal-finetune/runs/l3r6aouc</a>"
      ],
      "text/plain": [
       "<IPython.core.display.HTML object>"
      ]
     },
     "metadata": {},
     "output_type": "display_data"
    },
    {
     "name": "stderr",
     "output_type": "stream",
     "text": [
      "/home/mighty/PycharmProjects/llama-recipes/venv/lib/python3.11/site-packages/torch/utils/checkpoint.py:460: UserWarning: torch.utils.checkpoint: please pass in use_reentrant=True or use_reentrant=False explicitly. The default value of use_reentrant will be updated to be False in the future. To maintain current behavior, pass use_reentrant=True. It is recommended that you use use_reentrant=False. Refer to docs for more details on the differences between the two variants.\n",
      "  warnings.warn(\n"
     ]
    },
    {
     "data": {
      "text/html": [
       "\n",
       "    <div>\n",
       "      \n",
       "      <progress value='2' max='500' style='width:300px; height:20px; vertical-align: middle;'></progress>\n",
       "      [  2/500 : < :, Epoch 0.00/1]\n",
       "    </div>\n",
       "    <table border=\"1\" class=\"dataframe\">\n",
       "  <thead>\n",
       " <tr style=\"text-align: left;\">\n",
       "      <th>Step</th>\n",
       "      <th>Training Loss</th>\n",
       "      <th>Validation Loss</th>\n",
       "    </tr>\n",
       "  </thead>\n",
       "  <tbody>\n",
       "  </tbody>\n",
       "</table><p>"
      ],
      "text/plain": [
       "<IPython.core.display.HTML object>"
      ]
     },
     "metadata": {},
     "output_type": "display_data"
    },
    {
     "name": "stderr",
     "output_type": "stream",
     "text": [
      "/home/mighty/PycharmProjects/llama-recipes/venv/lib/python3.11/site-packages/peft/utils/save_and_load.py:131: UserWarning: Setting `save_embedding_layers` to `True` as embedding layers found in `target_modules`.\n",
      "  warnings.warn(\"Setting `save_embedding_layers` to `True` as embedding layers found in `target_modules`.\")\n",
      "/home/mighty/PycharmProjects/llama-recipes/venv/lib/python3.11/site-packages/torch/utils/checkpoint.py:460: UserWarning: torch.utils.checkpoint: please pass in use_reentrant=True or use_reentrant=False explicitly. The default value of use_reentrant will be updated to be False in the future. To maintain current behavior, pass use_reentrant=True. It is recommended that you use use_reentrant=False. Refer to docs for more details on the differences between the two variants.\n",
      "  warnings.warn(\n",
      "/home/mighty/PycharmProjects/llama-recipes/venv/lib/python3.11/site-packages/peft/utils/save_and_load.py:131: UserWarning: Setting `save_embedding_layers` to `True` as embedding layers found in `target_modules`.\n",
      "  warnings.warn(\"Setting `save_embedding_layers` to `True` as embedding layers found in `target_modules`.\")\n",
      "/home/mighty/PycharmProjects/llama-recipes/venv/lib/python3.11/site-packages/torch/utils/checkpoint.py:460: UserWarning: torch.utils.checkpoint: please pass in use_reentrant=True or use_reentrant=False explicitly. The default value of use_reentrant will be updated to be False in the future. To maintain current behavior, pass use_reentrant=True. It is recommended that you use use_reentrant=False. Refer to docs for more details on the differences between the two variants.\n",
      "  warnings.warn(\n",
      "/home/mighty/PycharmProjects/llama-recipes/venv/lib/python3.11/site-packages/peft/utils/save_and_load.py:131: UserWarning: Setting `save_embedding_layers` to `True` as embedding layers found in `target_modules`.\n",
      "  warnings.warn(\"Setting `save_embedding_layers` to `True` as embedding layers found in `target_modules`.\")\n",
      "/home/mighty/PycharmProjects/llama-recipes/venv/lib/python3.11/site-packages/torch/utils/checkpoint.py:460: UserWarning: torch.utils.checkpoint: please pass in use_reentrant=True or use_reentrant=False explicitly. The default value of use_reentrant will be updated to be False in the future. To maintain current behavior, pass use_reentrant=True. It is recommended that you use use_reentrant=False. Refer to docs for more details on the differences between the two variants.\n",
      "  warnings.warn(\n",
      "/home/mighty/PycharmProjects/llama-recipes/venv/lib/python3.11/site-packages/peft/utils/save_and_load.py:131: UserWarning: Setting `save_embedding_layers` to `True` as embedding layers found in `target_modules`.\n",
      "  warnings.warn(\"Setting `save_embedding_layers` to `True` as embedding layers found in `target_modules`.\")\n",
      "/home/mighty/PycharmProjects/llama-recipes/venv/lib/python3.11/site-packages/torch/utils/checkpoint.py:460: UserWarning: torch.utils.checkpoint: please pass in use_reentrant=True or use_reentrant=False explicitly. The default value of use_reentrant will be updated to be False in the future. To maintain current behavior, pass use_reentrant=True. It is recommended that you use use_reentrant=False. Refer to docs for more details on the differences between the two variants.\n",
      "  warnings.warn(\n",
      "/home/mighty/PycharmProjects/llama-recipes/venv/lib/python3.11/site-packages/peft/utils/save_and_load.py:131: UserWarning: Setting `save_embedding_layers` to `True` as embedding layers found in `target_modules`.\n",
      "  warnings.warn(\"Setting `save_embedding_layers` to `True` as embedding layers found in `target_modules`.\")\n",
      "/home/mighty/PycharmProjects/llama-recipes/venv/lib/python3.11/site-packages/torch/utils/checkpoint.py:460: UserWarning: torch.utils.checkpoint: please pass in use_reentrant=True or use_reentrant=False explicitly. The default value of use_reentrant will be updated to be False in the future. To maintain current behavior, pass use_reentrant=True. It is recommended that you use use_reentrant=False. Refer to docs for more details on the differences between the two variants.\n",
      "  warnings.warn(\n",
      "/home/mighty/PycharmProjects/llama-recipes/venv/lib/python3.11/site-packages/peft/utils/save_and_load.py:131: UserWarning: Setting `save_embedding_layers` to `True` as embedding layers found in `target_modules`.\n",
      "  warnings.warn(\"Setting `save_embedding_layers` to `True` as embedding layers found in `target_modules`.\")\n",
      "/home/mighty/PycharmProjects/llama-recipes/venv/lib/python3.11/site-packages/torch/utils/checkpoint.py:460: UserWarning: torch.utils.checkpoint: please pass in use_reentrant=True or use_reentrant=False explicitly. The default value of use_reentrant will be updated to be False in the future. To maintain current behavior, pass use_reentrant=True. It is recommended that you use use_reentrant=False. Refer to docs for more details on the differences between the two variants.\n",
      "  warnings.warn(\n",
      "/home/mighty/PycharmProjects/llama-recipes/venv/lib/python3.11/site-packages/peft/utils/save_and_load.py:131: UserWarning: Setting `save_embedding_layers` to `True` as embedding layers found in `target_modules`.\n",
      "  warnings.warn(\"Setting `save_embedding_layers` to `True` as embedding layers found in `target_modules`.\")\n",
      "/home/mighty/PycharmProjects/llama-recipes/venv/lib/python3.11/site-packages/torch/utils/checkpoint.py:460: UserWarning: torch.utils.checkpoint: please pass in use_reentrant=True or use_reentrant=False explicitly. The default value of use_reentrant will be updated to be False in the future. To maintain current behavior, pass use_reentrant=True. It is recommended that you use use_reentrant=False. Refer to docs for more details on the differences between the two variants.\n",
      "  warnings.warn(\n",
      "/home/mighty/PycharmProjects/llama-recipes/venv/lib/python3.11/site-packages/peft/utils/save_and_load.py:131: UserWarning: Setting `save_embedding_layers` to `True` as embedding layers found in `target_modules`.\n",
      "  warnings.warn(\"Setting `save_embedding_layers` to `True` as embedding layers found in `target_modules`.\")\n",
      "/home/mighty/PycharmProjects/llama-recipes/venv/lib/python3.11/site-packages/torch/utils/checkpoint.py:460: UserWarning: torch.utils.checkpoint: please pass in use_reentrant=True or use_reentrant=False explicitly. The default value of use_reentrant will be updated to be False in the future. To maintain current behavior, pass use_reentrant=True. It is recommended that you use use_reentrant=False. Refer to docs for more details on the differences between the two variants.\n",
      "  warnings.warn(\n",
      "/home/mighty/PycharmProjects/llama-recipes/venv/lib/python3.11/site-packages/peft/utils/save_and_load.py:131: UserWarning: Setting `save_embedding_layers` to `True` as embedding layers found in `target_modules`.\n",
      "  warnings.warn(\"Setting `save_embedding_layers` to `True` as embedding layers found in `target_modules`.\")\n",
      "/home/mighty/PycharmProjects/llama-recipes/venv/lib/python3.11/site-packages/torch/utils/checkpoint.py:460: UserWarning: torch.utils.checkpoint: please pass in use_reentrant=True or use_reentrant=False explicitly. The default value of use_reentrant will be updated to be False in the future. To maintain current behavior, pass use_reentrant=True. It is recommended that you use use_reentrant=False. Refer to docs for more details on the differences between the two variants.\n",
      "  warnings.warn(\n",
      "/home/mighty/PycharmProjects/llama-recipes/venv/lib/python3.11/site-packages/peft/utils/save_and_load.py:131: UserWarning: Setting `save_embedding_layers` to `True` as embedding layers found in `target_modules`.\n",
      "  warnings.warn(\"Setting `save_embedding_layers` to `True` as embedding layers found in `target_modules`.\")\n"
     ]
    },
    {
     "data": {
      "text/plain": [
       "TrainOutput(global_step=500, training_loss=0.9441669921875, metrics={'train_runtime': 2051.3654, 'train_samples_per_second': 0.487, 'train_steps_per_second': 0.244, 'total_flos': 2.0546926411776e+16, 'train_loss': 0.9441669921875, 'epoch': 0.64})"
      ]
     },
     "execution_count": 30,
     "metadata": {},
     "output_type": "execute_result"
    }
   ],
   "source": [
    "import transformers\n",
    "from datetime import datetime\n",
    "\n",
    "project = \"journal-finetune\"\n",
    "base_model_name = \"llama2-7b\"\n",
    "run_name = base_model_name + \"-\" + project\n",
    "output_dir = \"./\" + run_name\n",
    "\n",
    "tokenizer.pad_token = tokenizer.eos_token\n",
    "\n",
    "trainer = transformers.Trainer(\n",
    "    model=model,\n",
    "    train_dataset=tokenized_train_dataset,\n",
    "    eval_dataset=tokenized_val_dataset,\n",
    "    args=transformers.TrainingArguments(\n",
    "        gradient_checkpointing_kwargs={'use_reentrant':False}, # added because ofg warning, we will see\n",
    "        output_dir=output_dir,\n",
    "        warmup_steps=1,\n",
    "        per_device_train_batch_size=2,\n",
    "        gradient_accumulation_steps=1,\n",
    "        gradient_checkpointing=True,\n",
    "        max_steps=500,\n",
    "        learning_rate=2.5e-5, # Want a small lr for finetuning\n",
    "        bf16=True,\n",
    "        optim=\"paged_adamw_8bit\",\n",
    "        logging_dir=\"./logs\",        # Directory for storing logs\n",
    "        save_strategy=\"steps\",       # Save the model checkpoint every logging step\n",
    "        save_steps=50,                # Save checkpoints every 50 steps\n",
    "        evaluation_strategy=\"steps\", # Evaluate the model every logging step\n",
    "        eval_steps=50,               # Evaluate and save checkpoints every 50 steps\n",
    "        do_eval=True,                # Perform evaluation at the end of training\n",
    "        report_to=\"wandb\",           # Comment this out if you don't want to use weights & baises\n",
    "        run_name=f\"{run_name}-{datetime.now().strftime('%Y-%m-%d-%H-%M')}\"          # Name of the W&B run (optional)\n",
    "    ),\n",
    "    data_collator=transformers.DataCollatorForLanguageModeling(tokenizer, mlm=False),\n",
    ")\n",
    "\n",
    "model.config.use_cache = False  # silence the warnings. Please re-enable for inference!\n",
    "trainer.train()"
   ]
  },
  {
   "cell_type": "markdown",
   "metadata": {
    "id": "0D57XqcsyRgo"
   },
   "source": [
    "### 6. Drum Roll... Try the Trained Model!\n",
    "\n",
    "It's a good idea to kill the current process so that you don't run out of memory loading the base model again on top of the model we just trained. Go to `Kernel > Restart Kernel` or kill the process via the Terminal (`nvidia smi` > `kill [PID]`).\n",
    "\n",
    "By default, the PEFT library will only save the QLoRA adapters, so we need to first load the base Llama 2 7B model from the Huggingface Hub:\n"
   ]
  },
  {
   "cell_type": "code",
   "execution_count": null,
   "metadata": {
    "id": "SKSnF016yRgp"
   },
   "outputs": [],
   "source": [
    "import torch\n",
    "from transformers import AutoTokenizer, AutoModelForCausalLM, BitsAndBytesConfig\n",
    "\n",
    "base_model_id = \"meta-llama/Llama-2-7b-hf\"\n",
    "\n",
    "base_model = AutoModelForCausalLM.from_pretrained(\n",
    "    base_model_id,  # Llama 2 7B, same as before\n",
    "    quantization_config=bnb_config,  # Same quantization config as before\n",
    "    device_map=\"auto\",\n",
    "    trust_remote_code=True,\n",
    "    use_auth_token=True\n",
    ")\n",
    "\n",
    "tokenizer = AutoTokenizer.from_pretrained(base_model_id, add_bos_token=True, trust_remote_code=True)"
   ]
  },
  {
   "cell_type": "markdown",
   "metadata": {
    "id": "_BxOhAiqyRgp"
   },
   "source": [
    "Now load the QLoRA adapter from the appropriate checkpoint directory, i.e. the best performing model checkpoint:"
   ]
  },
  {
   "cell_type": "code",
   "execution_count": null,
   "metadata": {
    "id": "GwsiqhWuyRgp"
   },
   "outputs": [],
   "source": [
    "from peft import PeftModel\n",
    "\n",
    "ft_model = PeftModel.from_pretrained(base_model, \"llama2-7b-journal-finetune/checkpoint-500\")"
   ]
  },
  {
   "cell_type": "markdown",
   "metadata": {
    "id": "lX39ibolyRgp"
   },
   "source": [
    "and run your inference!"
   ]
  },
  {
   "cell_type": "markdown",
   "metadata": {
    "id": "UUehsaVNyRgp"
   },
   "source": [
    "Let's try the same `eval_prompt` and thus `model_input` as above, and see if the new finetuned model performs better."
   ]
  },
  {
   "cell_type": "code",
   "execution_count": null,
   "metadata": {
    "id": "lMkVNEUvyRgp"
   },
   "outputs": [],
   "source": [
    "eval_prompt = \" The following is a note by Eevee the Dog, which doesn't share anything too personal: # \"\n",
    "model_input = tokenizer(eval_prompt, return_tensors=\"pt\").to(\"cuda\")\n",
    "\n",
    "ft_model.eval()\n",
    "with torch.no_grad():\n",
    "    print(tokenizer.decode(ft_model.generate(**model_input, max_new_tokens=300)[0], skip_special_tokens=True))"
   ]
  },
  {
   "cell_type": "markdown",
   "metadata": {
    "id": "VCJnpZoayRgq"
   },
   "source": [
    "### Sweet... it worked! The fine-tuned model now prints out journal entries in my style!\n",
    "\n",
    "How funny to see it write like me as an angsty teenager.\n",
    "\n",
    "I hope you enjoyed this tutorial on fine-tuning Llama 2 on your own data. If you have any questions, feel free to reach out to me on [X](https://x.com/harperscarroll) or [Discord](https://discord.gg/NVDyv7TUgJ).\n",
    "\n",
    "🤙 🤙 🤙 🤙 🤙 🤙 🤙 🤙 🤙 🤙 🤙 🤙 🤙 🤙 🤙 🤙 🤙 🤙 🤙 🤙 🤙 🤙 🤙 🤙 🤙 🤙 🤙 🤙 🤙 🤙 🤙 🤙 🤙 🤙 🤙 🤙 🤙 🤙 🤙 🤙 🤙 🤙 🤙 🤙"
   ]
  }
 ],
 "metadata": {
  "accelerator": "GPU",
  "colab": {
   "gpuType": "T4",
   "provenance": []
  },
  "gpuClass": "standard",
  "kernelspec": {
   "display_name": "Python 3 (ipykernel)",
   "language": "python",
   "name": "python3"
  },
  "language_info": {
   "codemirror_mode": {
    "name": "ipython",
    "version": 3
   },
   "file_extension": ".py",
   "mimetype": "text/x-python",
   "name": "python",
   "nbconvert_exporter": "python",
   "pygments_lexer": "ipython3",
   "version": "3.11.7"
  }
 },
 "nbformat": 4,
 "nbformat_minor": 4
}
