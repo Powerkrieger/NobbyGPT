{
 "cells": [
  {
   "cell_type": "code",
   "execution_count": 1,
   "id": "initial_id",
   "metadata": {
    "collapsed": true,
    "ExecuteTime": {
     "end_time": "2023-10-24T14:40:10.885288574Z",
     "start_time": "2023-10-24T14:40:10.726821588Z"
    }
   },
   "outputs": [],
   "source": [
    "import pandas as pd\n",
    "working_dir = '../../'\n",
    "data_dir = f'{working_dir}data/'\n",
    "catalog_path = f'{data_dir}pg_catalog.csv'"
   ]
  },
  {
   "cell_type": "code",
   "execution_count": 2,
   "outputs": [
    {
     "name": "stderr",
     "output_type": "stream",
     "text": [
      "/tmp/ipykernel_22184/3862768594.py:1: DtypeWarning: Columns (8) have mixed types. Specify dtype option on import or set low_memory=False.\n",
      "  data = pd.read_csv(catalog_path)\n"
     ]
    }
   ],
   "source": [
    "data = pd.read_csv(catalog_path)"
   ],
   "metadata": {
    "collapsed": false,
    "ExecuteTime": {
     "end_time": "2023-10-24T14:40:11.044224727Z",
     "start_time": "2023-10-24T14:40:10.889062715Z"
    }
   },
   "id": "f25c0eb5bb1f9686"
  },
  {
   "cell_type": "code",
   "execution_count": 3,
   "outputs": [
    {
     "data": {
      "text/plain": "   Text#  Type      Issued                                              Title  \\\n0      1  Text  1971-12-01  The Declaration of Independence of the United ...   \n1      2  Text  1972-12-01  The United States Bill of Rights\\r\\nThe Ten Or...   \n2      3  Text  1973-11-01                John F. Kennedy's Inaugural Address   \n3      4  Text  1973-11-01  Lincoln's Gettysburg Address\\r\\nGiven November...   \n4      5  Text  1975-12-01                     The United States Constitution   \n\n  Language                                        Authors  \\\n0       en                   Jefferson, Thomas, 1743-1826   \n1       en                                  United States   \n2       en  Kennedy, John F. (John Fitzgerald), 1917-1963   \n3       en                    Lincoln, Abraham, 1809-1865   \n4       en                                  United States   \n\n                                            Subjects      LoCC  \\\n0  United States -- History -- Revolution, 1775-1...  E201; JK   \n1  Civil rights -- United States -- Sources; Unit...    JK; KF   \n2  United States -- Foreign relations -- 1961-196...      E838   \n3  Consecration of cemeteries -- Pennsylvania -- ...      E456   \n4  United States -- Politics and government -- 17...    JK; KF   \n\n                                         Bookshelves  \n0  Politics; American Revolutionary War; United S...  \n1  Politics; American Revolutionary War; United S...  \n2                                                NaN  \n3                                       US Civil War  \n4  United States; Politics; American Revolutionar...  ",
      "text/html": "<div>\n<style scoped>\n    .dataframe tbody tr th:only-of-type {\n        vertical-align: middle;\n    }\n\n    .dataframe tbody tr th {\n        vertical-align: top;\n    }\n\n    .dataframe thead th {\n        text-align: right;\n    }\n</style>\n<table border=\"1\" class=\"dataframe\">\n  <thead>\n    <tr style=\"text-align: right;\">\n      <th></th>\n      <th>Text#</th>\n      <th>Type</th>\n      <th>Issued</th>\n      <th>Title</th>\n      <th>Language</th>\n      <th>Authors</th>\n      <th>Subjects</th>\n      <th>LoCC</th>\n      <th>Bookshelves</th>\n    </tr>\n  </thead>\n  <tbody>\n    <tr>\n      <th>0</th>\n      <td>1</td>\n      <td>Text</td>\n      <td>1971-12-01</td>\n      <td>The Declaration of Independence of the United ...</td>\n      <td>en</td>\n      <td>Jefferson, Thomas, 1743-1826</td>\n      <td>United States -- History -- Revolution, 1775-1...</td>\n      <td>E201; JK</td>\n      <td>Politics; American Revolutionary War; United S...</td>\n    </tr>\n    <tr>\n      <th>1</th>\n      <td>2</td>\n      <td>Text</td>\n      <td>1972-12-01</td>\n      <td>The United States Bill of Rights\\r\\nThe Ten Or...</td>\n      <td>en</td>\n      <td>United States</td>\n      <td>Civil rights -- United States -- Sources; Unit...</td>\n      <td>JK; KF</td>\n      <td>Politics; American Revolutionary War; United S...</td>\n    </tr>\n    <tr>\n      <th>2</th>\n      <td>3</td>\n      <td>Text</td>\n      <td>1973-11-01</td>\n      <td>John F. Kennedy's Inaugural Address</td>\n      <td>en</td>\n      <td>Kennedy, John F. (John Fitzgerald), 1917-1963</td>\n      <td>United States -- Foreign relations -- 1961-196...</td>\n      <td>E838</td>\n      <td>NaN</td>\n    </tr>\n    <tr>\n      <th>3</th>\n      <td>4</td>\n      <td>Text</td>\n      <td>1973-11-01</td>\n      <td>Lincoln's Gettysburg Address\\r\\nGiven November...</td>\n      <td>en</td>\n      <td>Lincoln, Abraham, 1809-1865</td>\n      <td>Consecration of cemeteries -- Pennsylvania -- ...</td>\n      <td>E456</td>\n      <td>US Civil War</td>\n    </tr>\n    <tr>\n      <th>4</th>\n      <td>5</td>\n      <td>Text</td>\n      <td>1975-12-01</td>\n      <td>The United States Constitution</td>\n      <td>en</td>\n      <td>United States</td>\n      <td>United States -- Politics and government -- 17...</td>\n      <td>JK; KF</td>\n      <td>United States; Politics; American Revolutionar...</td>\n    </tr>\n  </tbody>\n</table>\n</div>"
     },
     "execution_count": 3,
     "metadata": {},
     "output_type": "execute_result"
    }
   ],
   "source": [
    "data.head()"
   ],
   "metadata": {
    "collapsed": false,
    "ExecuteTime": {
     "end_time": "2023-10-24T14:40:35.130866518Z",
     "start_time": "2023-10-24T14:40:35.115662685Z"
    }
   },
   "id": "c66a0db7f6bf8d88"
  },
  {
   "cell_type": "code",
   "execution_count": 4,
   "outputs": [
    {
     "data": {
      "text/plain": "      Text#  Type      Issued                                        Title  \\\n2023   2054  Text  2000-01-01                         Iphigenie auf Tauris   \n2114   2146  Text  2000-04-01                                       Egmont   \n2142   2174  Text  2000-05-01                Frau und Kindern auf der Spur   \n2155   2187  Text  2000-05-01                                       Oberon   \n2156   2188  Text  2000-05-01  Die Aufzeichnungen des Malte Laurids Brigge   \n\n     Language                                 Authors  \\\n2023       de  Goethe, Johann Wolfgang von, 1749-1832   \n2114       de  Goethe, Johann Wolfgang von, 1749-1832   \n2142       de                       Rohner, Gerold K.   \n2155       de    Wieland, Christoph Martin, 1733-1813   \n2156       de          Rilke, Rainer Maria, 1875-1926   \n\n                                               Subjects LoCC  \\\n2023        Iphigenia (Mythological character) -- Drama   PT   \n2114  Egmont, Lamoraal, Graaf van, 1522-1568 -- Dram...   PT   \n2142                           Fiction; Western stories   PT   \n2155                      German poetry -- 18th century   PT   \n2156  Paris (France) -- Fiction; Stream of conscious...   PT   \n\n                     Bookshelves  \n2023                    DE Drama  \n2114  Harvard Classics; DE Drama  \n2142                    DE Prosa  \n2155             Opera; DE Lyrik  \n2156                    DE Prosa  ",
      "text/html": "<div>\n<style scoped>\n    .dataframe tbody tr th:only-of-type {\n        vertical-align: middle;\n    }\n\n    .dataframe tbody tr th {\n        vertical-align: top;\n    }\n\n    .dataframe thead th {\n        text-align: right;\n    }\n</style>\n<table border=\"1\" class=\"dataframe\">\n  <thead>\n    <tr style=\"text-align: right;\">\n      <th></th>\n      <th>Text#</th>\n      <th>Type</th>\n      <th>Issued</th>\n      <th>Title</th>\n      <th>Language</th>\n      <th>Authors</th>\n      <th>Subjects</th>\n      <th>LoCC</th>\n      <th>Bookshelves</th>\n    </tr>\n  </thead>\n  <tbody>\n    <tr>\n      <th>2023</th>\n      <td>2054</td>\n      <td>Text</td>\n      <td>2000-01-01</td>\n      <td>Iphigenie auf Tauris</td>\n      <td>de</td>\n      <td>Goethe, Johann Wolfgang von, 1749-1832</td>\n      <td>Iphigenia (Mythological character) -- Drama</td>\n      <td>PT</td>\n      <td>DE Drama</td>\n    </tr>\n    <tr>\n      <th>2114</th>\n      <td>2146</td>\n      <td>Text</td>\n      <td>2000-04-01</td>\n      <td>Egmont</td>\n      <td>de</td>\n      <td>Goethe, Johann Wolfgang von, 1749-1832</td>\n      <td>Egmont, Lamoraal, Graaf van, 1522-1568 -- Dram...</td>\n      <td>PT</td>\n      <td>Harvard Classics; DE Drama</td>\n    </tr>\n    <tr>\n      <th>2142</th>\n      <td>2174</td>\n      <td>Text</td>\n      <td>2000-05-01</td>\n      <td>Frau und Kindern auf der Spur</td>\n      <td>de</td>\n      <td>Rohner, Gerold K.</td>\n      <td>Fiction; Western stories</td>\n      <td>PT</td>\n      <td>DE Prosa</td>\n    </tr>\n    <tr>\n      <th>2155</th>\n      <td>2187</td>\n      <td>Text</td>\n      <td>2000-05-01</td>\n      <td>Oberon</td>\n      <td>de</td>\n      <td>Wieland, Christoph Martin, 1733-1813</td>\n      <td>German poetry -- 18th century</td>\n      <td>PT</td>\n      <td>Opera; DE Lyrik</td>\n    </tr>\n    <tr>\n      <th>2156</th>\n      <td>2188</td>\n      <td>Text</td>\n      <td>2000-05-01</td>\n      <td>Die Aufzeichnungen des Malte Laurids Brigge</td>\n      <td>de</td>\n      <td>Rilke, Rainer Maria, 1875-1926</td>\n      <td>Paris (France) -- Fiction; Stream of conscious...</td>\n      <td>PT</td>\n      <td>DE Prosa</td>\n    </tr>\n  </tbody>\n</table>\n</div>"
     },
     "execution_count": 4,
     "metadata": {},
     "output_type": "execute_result"
    }
   ],
   "source": [
    "deutsch = data.loc[data['Language'] == 'de']\n",
    "deutsch.head()"
   ],
   "metadata": {
    "collapsed": false,
    "ExecuteTime": {
     "end_time": "2023-10-24T14:45:19.039164553Z",
     "start_time": "2023-10-24T14:45:18.995053998Z"
    }
   },
   "id": "abd9467d7b1840dd"
  },
  {
   "cell_type": "code",
   "execution_count": null,
   "outputs": [],
   "source": [],
   "metadata": {
    "collapsed": false
   },
   "id": "611461e9c6b58173"
  }
 ],
 "metadata": {
  "kernelspec": {
   "display_name": "Python 3",
   "language": "python",
   "name": "python3"
  },
  "language_info": {
   "codemirror_mode": {
    "name": "ipython",
    "version": 2
   },
   "file_extension": ".py",
   "mimetype": "text/x-python",
   "name": "python",
   "nbconvert_exporter": "python",
   "pygments_lexer": "ipython2",
   "version": "2.7.6"
  }
 },
 "nbformat": 4,
 "nbformat_minor": 5
}
