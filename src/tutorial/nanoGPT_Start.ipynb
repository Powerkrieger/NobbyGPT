{
  "nbformat": 4,
  "nbformat_minor": 0,
  "metadata": {
    "colab": {
      "provenance": []
    },
    "kernelspec": {
      "name": "python3",
      "display_name": "Python 3"
    },
    "language_info": {
      "name": "python"
    }
  },
  "cells": [
    {
      "cell_type": "code",
      "execution_count": 1,
      "metadata": {
        "colab": {
          "base_uri": "https://localhost:8080/"
        },
        "id": "uFnICex_Ada3",
        "outputId": "1ddf3c18-b9ca-4a7d-a01e-eb75ee3a3def"
      },
      "outputs": [
        {
          "output_type": "stream",
          "name": "stdout",
          "text": [
            "--2023-10-25 08:57:32--  https://raw.githubusercontent.com/karpathy/char-rnn/master/data/tinyshakespeare/input.txt\n",
            "Resolving raw.githubusercontent.com (raw.githubusercontent.com)... 185.199.108.133, 185.199.109.133, 185.199.110.133, ...\n",
            "Connecting to raw.githubusercontent.com (raw.githubusercontent.com)|185.199.108.133|:443... connected.\n",
            "HTTP request sent, awaiting response... 200 OK\n",
            "Length: 1115394 (1.1M) [text/plain]\n",
            "Saving to: ‘input.txt’\n",
            "\n",
            "input.txt           100%[===================>]   1.06M  --.-KB/s    in 0.06s   \n",
            "\n",
            "2023-10-25 08:57:32 (18.3 MB/s) - ‘input.txt’ saved [1115394/1115394]\n",
            "\n"
          ]
        }
      ],
      "source": [
        "# Tiny Shakespeare download\n",
        "!wget https://raw.githubusercontent.com/karpathy/char-rnn/master/data/tinyshakespeare/input.txt"
      ]
    },
    {
      "cell_type": "code",
      "source": [
        "# Datensatz einlesen und Parameter ausgeben\n",
        "with open('input.txt', 'r', encoding='utf-8') as f:\n",
        "  text = f.read()"
      ],
      "metadata": {
        "id": "xLVqA_SKDKpy"
      },
      "execution_count": 2,
      "outputs": []
    },
    {
      "cell_type": "code",
      "source": [
        "print(\"Länge des Datensatzes: \", len(text), \"\\n\")\n",
        "print(text[:100])"
      ],
      "metadata": {
        "colab": {
          "base_uri": "https://localhost:8080/"
        },
        "id": "BeSt3ieNDbpK",
        "outputId": "574013f0-62c4-447a-98b5-b934b7e915d5"
      },
      "execution_count": 6,
      "outputs": [
        {
          "output_type": "stream",
          "name": "stdout",
          "text": [
            "Länge des Datensatzes:  1115394 \n",
            "\n",
            "First Citizen:\n",
            "Before we proceed any further, hear me speak.\n",
            "\n",
            "All:\n",
            "Speak, speak.\n",
            "\n",
            "First Citizen:\n",
            "You\n"
          ]
        }
      ]
    },
    {
      "cell_type": "code",
      "source": [
        "# Vokabular / Tokendomäne ermitteln\n",
        "\n",
        "chars = sorted(list(set(text)))\n",
        "vocab_size = len(chars)\n",
        "print(''.join(chars))\n",
        "print(\"Vokabulargröße: \", vocab_size)"
      ],
      "metadata": {
        "colab": {
          "base_uri": "https://localhost:8080/"
        },
        "id": "rMvgkn0GD0xj",
        "outputId": "6cfa8f32-d68a-47c6-d265-8f6391ce85a6"
      },
      "execution_count": 7,
      "outputs": [
        {
          "output_type": "stream",
          "name": "stdout",
          "text": [
            "\n",
            " !$&',-.3:;?ABCDEFGHIJKLMNOPQRSTUVWXYZabcdefghijklmnopqrstuvwxyz\n",
            "Vokabulargröße:  65\n"
          ]
        }
      ]
    },
    {
      "cell_type": "code",
      "source": [
        "# Encoding und Decoding von chars zu ints und umgekehrt\n",
        "# -----------------------------------------------------\n",
        "\n",
        "# Abbildungslisten von chars auf Ints und umgekehrt\n",
        "char_to_int = {ch:i for i,ch in enumerate(chars)}\n",
        "int_to_char = {i:ch for i,ch in enumerate(chars)}\n",
        "\n",
        "# Encoding und Decoding mit den Listen\n",
        "encode = lambda s: [char_to_int[c] for c in s]\n",
        "decode = lambda l: [int_to_char[i] for i in l]\n",
        "\n",
        "# Beispiel\n",
        "print(encode(\"Fromage\"))\n",
        "print(decode(encode(\"Fromage\")))"
      ],
      "metadata": {
        "colab": {
          "base_uri": "https://localhost:8080/"
        },
        "id": "33eE8ZjVElVz",
        "outputId": "2b8ed947-95e0-405b-aa50-9c404c4c2554"
      },
      "execution_count": 9,
      "outputs": [
        {
          "output_type": "stream",
          "name": "stdout",
          "text": [
            "[18, 56, 53, 51, 39, 45, 43]\n",
            "['F', 'r', 'o', 'm', 'a', 'g', 'e']\n"
          ]
        }
      ]
    },
    {
      "cell_type": "code",
      "source": [
        "# Jetzt torch-tauglich machen durch encoding als Tensor\n",
        "\n",
        "import torch\n",
        "\n",
        "# Den gesamten Shakespeare-Text als Tensor codieren\n",
        "data = torch.tensor(encode(text), dtype=torch.long)\n",
        "\n",
        "# Den Tensor angucken\n",
        "print(data.shape, data.dtype)\n",
        "print(data[:1000])"
      ],
      "metadata": {
        "id": "UT0crNuqGJtu"
      },
      "execution_count": null,
      "outputs": []
    },
    {
      "cell_type": "code",
      "source": [
        "# Trennen von Trainings- und Validierungsdaten\n",
        "\n",
        "n_split = int(0.9*len(data)) # Teilungsverhältnis (0.9)\n",
        "train_data = data[:n_split]\n",
        "val_data = data[n_split:]"
      ],
      "metadata": {
        "id": "2Q6m7jKiG6I0"
      },
      "execution_count": 12,
      "outputs": []
    },
    {
      "cell_type": "code",
      "source": [
        "# Aufteilen der Trainingsdaten in Blöcke für paralleles Training\n",
        "block_size = 8\n",
        "train_data[:block_size+1] # In diesem Tensor sind 8 Trainingsszenarien"
      ],
      "metadata": {
        "colab": {
          "base_uri": "https://localhost:8080/"
        },
        "id": "spMW1eZdHoAb",
        "outputId": "7224aa16-a10b-447b-d328-0e9eaddd9de3"
      },
      "execution_count": 13,
      "outputs": [
        {
          "output_type": "execute_result",
          "data": {
            "text/plain": [
              "tensor([18, 47, 56, 57, 58,  1, 15, 47, 58])"
            ]
          },
          "metadata": {},
          "execution_count": 13
        }
      ]
    },
    {
      "cell_type": "code",
      "source": [
        "# Zur Veranschaulichung\n",
        "x = train_data[:block_size]\n",
        "y = train_data[1:block_size+1]\n",
        "\n",
        "for t in range(block_size):\n",
        "  context = x[:t+1]\n",
        "  target = y[t]\n",
        "  print(f\"Bei Input {context} ist die erwartete Ausgabe (das Target) {target}\")"
      ],
      "metadata": {
        "colab": {
          "base_uri": "https://localhost:8080/"
        },
        "id": "XaCT8wSOILBf",
        "outputId": "0f9bb51c-6998-4d10-ab27-9d02787a00b9"
      },
      "execution_count": 14,
      "outputs": [
        {
          "output_type": "stream",
          "name": "stdout",
          "text": [
            "Bei Input tensor([18]) ist die erwartete Ausgabe (das Target) 47\n",
            "Bei Input tensor([18, 47]) ist die erwartete Ausgabe (das Target) 56\n",
            "Bei Input tensor([18, 47, 56]) ist die erwartete Ausgabe (das Target) 57\n",
            "Bei Input tensor([18, 47, 56, 57]) ist die erwartete Ausgabe (das Target) 58\n",
            "Bei Input tensor([18, 47, 56, 57, 58]) ist die erwartete Ausgabe (das Target) 1\n",
            "Bei Input tensor([18, 47, 56, 57, 58,  1]) ist die erwartete Ausgabe (das Target) 15\n",
            "Bei Input tensor([18, 47, 56, 57, 58,  1, 15]) ist die erwartete Ausgabe (das Target) 47\n",
            "Bei Input tensor([18, 47, 56, 57, 58,  1, 15, 47]) ist die erwartete Ausgabe (das Target) 58\n"
          ]
        }
      ]
    },
    {
      "cell_type": "code",
      "source": [
        "# Um das jetzt zu generalisieren, kann man smartere Tensoren bauen\n",
        "\n",
        "torch.manual_seed(2424)\n",
        "batch_size = 4 # Wie viele unabhängige Sequenzen parallel bearbeitet werden\n",
        "block_size = 8 # Maximale Kontextlänge (siehe Oben)\n",
        "\n",
        "def get_batch(split):\n",
        "  # Je nachdem, ob Training oder Validation, zufällige Sequenz auswählen\n",
        "  data = train_data if split == 'train' else val_data\n",
        "  ix = torch.randint(len(data) - block_size, (batch_size,))\n",
        "\n",
        "  # Die Tensoren füllen (Einmal Context, einmal Targets)\n",
        "  x = torch.stack([data[i:i+block_size] for i in ix])\n",
        "  y = torch.stack([data[i+1:i+block_size+1] for i in ix])\n",
        "\n",
        "  return x, y\n",
        "\n",
        "# Ausgabe des Ergebnisses\n",
        "# xb wird dann der Input für das neuronale Netz zum Lernen\n",
        "xb, yb = get_batch('train')\n",
        "print(\"Inputs: \\n\")\n",
        "print(\"Input_Shape: \", xb.shape)\n",
        "print(xb, \"\\n\")\n",
        "print(\"Targets: \\n\")\n",
        "print(\"Target_Shape:\", yb.shape)\n",
        "print(yb)"
      ],
      "metadata": {
        "colab": {
          "base_uri": "https://localhost:8080/"
        },
        "id": "MijsePeJI7Of",
        "outputId": "428d0912-19f3-4c58-d0e6-35c14ff6e3e0"
      },
      "execution_count": 17,
      "outputs": [
        {
          "output_type": "stream",
          "name": "stdout",
          "text": [
            "Inputs: \n",
            "\n",
            "Input_Shape:  torch.Size([4, 8])\n",
            "tensor([[57,  1, 47, 58,  1, 43,  5, 43],\n",
            "        [63, 53, 59,  6,  1, 51, 63,  1],\n",
            "        [53, 41, 50, 39, 47, 51,  5, 42],\n",
            "        [57, 47, 56, 47, 52, 45,  1, 43]]) \n",
            "\n",
            "Targets: \n",
            "\n",
            "Target_Shape: torch.Size([4, 8])\n",
            "tensor([[ 1, 47, 58,  1, 43,  5, 43, 52],\n",
            "        [53, 59,  6,  1, 51, 63,  1, 50],\n",
            "        [41, 50, 39, 47, 51,  5, 42,  1],\n",
            "        [47, 56, 47, 52, 45,  1, 43, 63]])\n"
          ]
        }
      ]
    },
    {
      "cell_type": "code",
      "source": [
        "# Einfachstes Beispiel -> BigramLanguageModel\n",
        "# Idee: Lernen, welche Buchstaben direkt aufeinander folgen\n",
        "# Also zum Beispiel: Wenn K, dann vermutlich a\n",
        "\n",
        "import torch\n",
        "import torch.nn as nn\n",
        "from torch.nn import functional as F\n",
        "torch.manual_seed(2424)\n",
        "\n",
        "class BigramLanguageModel(nn.Module):\n",
        "\n",
        "  def __init__(self, vocab_size):\n",
        "    super().__init__()\n",
        "    # Aufbau einer Tabelle, in der die Aufeinanderfolgewahrscheinlichkeit steht\n",
        "    self.token_embedding_table = nn.Embedding(vocab_size, vocab_size)\n",
        "\n",
        "  def forward(self, idx, targets=None):\n",
        "    # Aufbau eines Tensors, der für jeden Batch die Blöcke mit den möglichen\n",
        "    # Werten der Tabelle fusioniert, sodass am Ende (Batch x Times x Channels)\n",
        "    # also 4 x 8 x 65 als Tensor entsteht -> Damit dann vorhersagen, für\n",
        "    # welchen Char, welcher char als nächstes Kommt\n",
        "    logits = self.token_embedding_table(idx)\n",
        "\n",
        "    if targets is None:\n",
        "      loss = None\n",
        "    else:\n",
        "      # Und weil (warum auch immer) das zunächst die falsche Form/Dimension hat:\n",
        "      B, T, C = logits.shape\n",
        "      logits = logits.view(B*T, C)\n",
        "\n",
        "      targets = targets.view(B*T)\n",
        "\n",
        "      # Jetzt noch den Loss berechnen, um den Tensor zu updaten\n",
        "      # Der Loss ist übrigens der Grund für den Dimensionskäse oben\n",
        "      loss = F.cross_entropy(logits, targets)\n",
        "\n",
        "    return logits, loss\n",
        "\n",
        "  # Jetzt kann man mit dem Modell auch etwas genereiren lassen\n",
        "  def generate(self, idx, max_new_tokens):\n",
        "    # idx ist das B x T Array aus Indices der Tokens\n",
        "    for i in range(max_new_tokens):\n",
        "      # Prediction vom Modell holen\n",
        "      logits, loss = self(idx)\n",
        "      # Fokus nur auf den letzten char (weil BigramLanguageModel)\n",
        "      logits = logits[:, -1, :] # Nur noch B x C\n",
        "      # Softmax nutzen, um Wahrscheinlichkeit zu ermitteln\n",
        "      probs = F.softmax(logits, dim=-1)\n",
        "      # Aus der ermittelten Verteilung ziehen\n",
        "      idx_next = torch.multinomial(probs, num_samples=1) # Wird B x 1\n",
        "      # Den ermittelten Int eines Chars an die Sequenz anhängen\n",
        "      idx = torch.cat((idx, idx_next), dim=1) # Wird B X T+1\n",
        "    return idx\n",
        "\n",
        "\n",
        "m = BigramLanguageModel(vocab_size)\n",
        "logits, loss = m(xb, yb)\n",
        "print(logits.shape) # Das ist der Tensor mit B x T x C, aber runtergebrochen\n",
        "print(loss)\n",
        "\n",
        "# Test der Generatorfunktion\n",
        "# Also: Dekodieren einer Sequenz aus einem 1x1 Tensor (das ist idx), der mit 0\n",
        "# initialisiert ist und von generate mit max_new_tokens gefüllt wurde\n",
        "generated = decode(m.generate(idx = torch.zeros((1,1), dtype=torch.long),\n",
        "                        max_new_tokens = 100) [0].tolist())\n",
        "print(''.join(generated))"
      ],
      "metadata": {
        "colab": {
          "base_uri": "https://localhost:8080/"
        },
        "id": "nQXfZYHrLWt0",
        "outputId": "ba93788c-214f-4a70-d0e8-dc6bd1708d9a"
      },
      "execution_count": 29,
      "outputs": [
        {
          "output_type": "stream",
          "name": "stdout",
          "text": [
            "torch.Size([32, 65])\n",
            "tensor(4.7592, grad_fn=<NllLossBackward0>)\n",
            "\n",
            "- s\n",
            "Dg!IK\n",
            "!rElmsfKUvdpIhbGg&o:ZiJOfKGqvF?bEdVcdoztaw:pRVkdp nUdBxHZJHEN!o,SJddpzIxJufp ZQJ'MUyudNCtn\n"
          ]
        }
      ]
    },
    {
      "cell_type": "code",
      "source": [
        "# Jetzt gehts um basic learning, damit das Teil auch mal was rallt\n",
        "\n",
        "# Optimizer erstellen\n",
        "optimizer = torch.optim.AdamW(m.parameters(), lr=1e-3)\n",
        "\n",
        "batch_size = 32\n",
        "iterations = 10000\n",
        "\n",
        "for steps in range(iterations):\n",
        "  # Batch ziehen\n",
        "  xb, yb = get_batch('train')\n",
        "\n",
        "  # Loss berechnen und optimieren\n",
        "  logits, loss = m(xb, yb)\n",
        "  optimizer.zero_grad(set_to_none = True)\n",
        "  loss.backward()\n",
        "  optimizer.step()\n",
        "\n",
        "#Ausgabe des letzten Losses\n",
        "print(loss.item())"
      ],
      "metadata": {
        "colab": {
          "base_uri": "https://localhost:8080/"
        },
        "id": "p-0P81SmWDfM",
        "outputId": "c4550ff1-d87d-4b21-c240-70ea408e6b19"
      },
      "execution_count": 39,
      "outputs": [
        {
          "output_type": "stream",
          "name": "stdout",
          "text": [
            "2.3895466327667236\n"
          ]
        }
      ]
    },
    {
      "cell_type": "code",
      "source": [
        "# Und jetzt nochmal den Generator testen -> Hoffentlich deutlich besser\n",
        "generated = decode(m.generate(idx = torch.zeros((1,1), dtype=torch.long),\n",
        "                        max_new_tokens = 100) [0].tolist())\n",
        "print(''.join(generated))"
      ],
      "metadata": {
        "colab": {
          "base_uri": "https://localhost:8080/"
        },
        "id": "cMmRgyo3XI0B",
        "outputId": "93326eb3-5a88-4804-ca43-0ea5c11cf05f"
      },
      "execution_count": 40,
      "outputs": [
        {
          "output_type": "stream",
          "name": "stdout",
          "text": [
            "\n",
            "F thinot to thebeikive t at,\n",
            "VOFowit my thortn, mavitineas stlorck t t youssourd n y.\n",
            "'spridise that\n"
          ]
        }
      ]
    }
  ]
}